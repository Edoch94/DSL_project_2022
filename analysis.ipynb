{
 "cells": [
  {
   "cell_type": "code",
   "execution_count": 3,
   "metadata": {},
   "outputs": [],
   "source": [
    "import pandas as pd\n",
    "from pathlib import Path"
   ]
  },
  {
   "cell_type": "markdown",
   "metadata": {},
   "source": [
    "# Bayes"
   ]
  },
  {
   "cell_type": "code",
   "execution_count": 7,
   "metadata": {},
   "outputs": [],
   "source": [
    "path_IN = Path.cwd()\n",
    "NB_results_IN = pd.read_csv(path_IN/'gscv_results'/'multinomialNB_final_results.csv', index_col=0)"
   ]
  },
  {
   "cell_type": "code",
   "execution_count": 8,
   "metadata": {},
   "outputs": [
    {
     "data": {
      "text/plain": [
       "Index(['mean_fit_time', 'std_fit_time', 'mean_score_time', 'std_score_time',\n",
       "       'param_multinomialNB__alpha', 'param_tfidf__binary',\n",
       "       'param_tfidf__max_df', 'param_tfidf__max_features',\n",
       "       'param_tfidf__min_df', 'param_tfidf__ngram_range', 'param_tfidf__norm',\n",
       "       'param_tfidf__smooth_idf', 'param_tfidf__stop_words',\n",
       "       'param_tfidf__sublinear_tf', 'param_tfidf__use_idf', 'params',\n",
       "       'split0_test_score', 'split1_test_score', 'split2_test_score',\n",
       "       'mean_test_score', 'std_test_score', 'rank_test_score'],\n",
       "      dtype='object')"
      ]
     },
     "execution_count": 8,
     "metadata": {},
     "output_type": "execute_result"
    }
   ],
   "source": [
    "NB_results_IN.columns"
   ]
  },
  {
   "cell_type": "code",
   "execution_count": 40,
   "metadata": {},
   "outputs": [
    {
     "data": {
      "text/html": [
       "<div>\n",
       "<style scoped>\n",
       "    .dataframe tbody tr th:only-of-type {\n",
       "        vertical-align: middle;\n",
       "    }\n",
       "\n",
       "    .dataframe tbody tr th {\n",
       "        vertical-align: top;\n",
       "    }\n",
       "\n",
       "    .dataframe thead th {\n",
       "        text-align: right;\n",
       "    }\n",
       "</style>\n",
       "<table border=\"1\" class=\"dataframe\">\n",
       "  <thead>\n",
       "    <tr style=\"text-align: right;\">\n",
       "      <th></th>\n",
       "      <th>param_tfidf__ngram_range</th>\n",
       "      <th>mean_test_score</th>\n",
       "    </tr>\n",
       "  </thead>\n",
       "  <tbody>\n",
       "    <tr>\n",
       "      <th>294</th>\n",
       "      <td>(1, 1)</td>\n",
       "      <td>0.721740</td>\n",
       "    </tr>\n",
       "    <tr>\n",
       "      <th>302</th>\n",
       "      <td>(1, 2)</td>\n",
       "      <td>0.754479</td>\n",
       "    </tr>\n",
       "    <tr>\n",
       "      <th>310</th>\n",
       "      <td>(1, 3)</td>\n",
       "      <td>0.758343</td>\n",
       "    </tr>\n",
       "  </tbody>\n",
       "</table>\n",
       "</div>"
      ],
      "text/plain": [
       "    param_tfidf__ngram_range  mean_test_score\n",
       "294                   (1, 1)         0.721740\n",
       "302                   (1, 2)         0.754479\n",
       "310                   (1, 3)         0.758343"
      ]
     },
     "execution_count": 40,
     "metadata": {},
     "output_type": "execute_result"
    }
   ],
   "source": [
    "NB_results_IN.loc[\n",
    "    (NB_results_IN['param_multinomialNB__alpha'] == 0.1) &\n",
    "    (NB_results_IN['param_tfidf__binary'] == True) &\n",
    "    (NB_results_IN['param_tfidf__max_df'] == 1.0) &\n",
    "    (NB_results_IN['param_tfidf__max_features'].isna()) &\n",
    "    (NB_results_IN['param_tfidf__min_df'] == 1) &\n",
    "    # (NB_results_IN['param_tfidf__ngram_range'] == '(1, 3)') &\n",
    "    (NB_results_IN['param_tfidf__norm'] == 'l2') &\n",
    "    (NB_results_IN['param_tfidf__smooth_idf'] == False) &\n",
    "    (NB_results_IN['param_tfidf__stop_words'].isna()) &\n",
    "    (NB_results_IN['param_tfidf__sublinear_tf'] == False) &\n",
    "    (NB_results_IN['param_tfidf__use_idf'] == True),\n",
    "    ['param_tfidf__ngram_range','mean_test_score']\n",
    "]"
   ]
  },
  {
   "cell_type": "code",
   "execution_count": 39,
   "metadata": {},
   "outputs": [
    {
     "data": {
      "text/html": [
       "<div>\n",
       "<style scoped>\n",
       "    .dataframe tbody tr th:only-of-type {\n",
       "        vertical-align: middle;\n",
       "    }\n",
       "\n",
       "    .dataframe tbody tr th {\n",
       "        vertical-align: top;\n",
       "    }\n",
       "\n",
       "    .dataframe thead th {\n",
       "        text-align: right;\n",
       "    }\n",
       "</style>\n",
       "<table border=\"1\" class=\"dataframe\">\n",
       "  <thead>\n",
       "    <tr style=\"text-align: right;\">\n",
       "      <th></th>\n",
       "      <th>mean_fit_time</th>\n",
       "      <th>std_fit_time</th>\n",
       "      <th>mean_score_time</th>\n",
       "      <th>std_score_time</th>\n",
       "      <th>param_multinomialNB__alpha</th>\n",
       "      <th>param_tfidf__binary</th>\n",
       "      <th>param_tfidf__max_df</th>\n",
       "      <th>param_tfidf__max_features</th>\n",
       "      <th>param_tfidf__min_df</th>\n",
       "      <th>param_tfidf__ngram_range</th>\n",
       "      <th>...</th>\n",
       "      <th>param_tfidf__stop_words</th>\n",
       "      <th>param_tfidf__sublinear_tf</th>\n",
       "      <th>param_tfidf__use_idf</th>\n",
       "      <th>params</th>\n",
       "      <th>split0_test_score</th>\n",
       "      <th>split1_test_score</th>\n",
       "      <th>split2_test_score</th>\n",
       "      <th>mean_test_score</th>\n",
       "      <th>std_test_score</th>\n",
       "      <th>rank_test_score</th>\n",
       "    </tr>\n",
       "  </thead>\n",
       "  <tbody>\n",
       "    <tr>\n",
       "      <th>308</th>\n",
       "      <td>15.746</td>\n",
       "      <td>0.360568</td>\n",
       "      <td>4.034334</td>\n",
       "      <td>0.278082</td>\n",
       "      <td>0.1</td>\n",
       "      <td>True</td>\n",
       "      <td>1.0</td>\n",
       "      <td>NaN</td>\n",
       "      <td>1</td>\n",
       "      <td>(1, 3)</td>\n",
       "      <td>...</td>\n",
       "      <td>NaN</td>\n",
       "      <td>False</td>\n",
       "      <td>True</td>\n",
       "      <td>{'multinomialNB__alpha': 0.1, 'tfidf__binary':...</td>\n",
       "      <td>0.759992</td>\n",
       "      <td>0.758877</td>\n",
       "      <td>0.757963</td>\n",
       "      <td>0.758944</td>\n",
       "      <td>0.00083</td>\n",
       "      <td>1</td>\n",
       "    </tr>\n",
       "  </tbody>\n",
       "</table>\n",
       "<p>1 rows × 22 columns</p>\n",
       "</div>"
      ],
      "text/plain": [
       "     mean_fit_time  std_fit_time  mean_score_time  std_score_time  \\\n",
       "308         15.746      0.360568         4.034334        0.278082   \n",
       "\n",
       "     param_multinomialNB__alpha  param_tfidf__binary  param_tfidf__max_df  \\\n",
       "308                         0.1                 True                  1.0   \n",
       "\n",
       "     param_tfidf__max_features  param_tfidf__min_df param_tfidf__ngram_range  \\\n",
       "308                        NaN                    1                   (1, 3)   \n",
       "\n",
       "     ... param_tfidf__stop_words  param_tfidf__sublinear_tf  \\\n",
       "308  ...                     NaN                      False   \n",
       "\n",
       "    param_tfidf__use_idf                                             params  \\\n",
       "308                 True  {'multinomialNB__alpha': 0.1, 'tfidf__binary':...   \n",
       "\n",
       "     split0_test_score split1_test_score  split2_test_score  mean_test_score  \\\n",
       "308           0.759992          0.758877           0.757963         0.758944   \n",
       "\n",
       "     std_test_score  rank_test_score  \n",
       "308         0.00083                1  \n",
       "\n",
       "[1 rows x 22 columns]"
      ]
     },
     "execution_count": 39,
     "metadata": {},
     "output_type": "execute_result"
    }
   ],
   "source": [
    "NB_results_IN[NB_results_IN['rank_test_score'] == 1]"
   ]
  },
  {
   "cell_type": "markdown",
   "metadata": {},
   "source": [
    "# linearSVC"
   ]
  },
  {
   "cell_type": "code",
   "execution_count": 13,
   "metadata": {},
   "outputs": [],
   "source": [
    "path_IN = Path.cwd()\n",
    "SVC_results_IN = pd.read_csv(path_IN/'gscv_results'/'linearSVC_final_results2.csv', index_col=0)"
   ]
  },
  {
   "cell_type": "code",
   "execution_count": 14,
   "metadata": {},
   "outputs": [
    {
     "data": {
      "text/plain": [
       "Index(['mean_fit_time', 'std_fit_time', 'mean_score_time', 'std_score_time',\n",
       "       'param_linearSVC__C', 'param_linearSVC__class_weight',\n",
       "       'param_linearSVC__dual', 'param_linearSVC__fit_intercept',\n",
       "       'param_linearSVC__max_iter', 'param_linearSVC__penalty',\n",
       "       'param_linearSVC__random_state', 'param_linearSVC__tol',\n",
       "       'param_tfidf__binary', 'param_tfidf__max_df',\n",
       "       'param_tfidf__max_features', 'param_tfidf__min_df',\n",
       "       'param_tfidf__ngram_range', 'param_tfidf__norm',\n",
       "       'param_tfidf__smooth_idf', 'param_tfidf__stop_words',\n",
       "       'param_tfidf__sublinear_tf', 'param_tfidf__use_idf', 'params',\n",
       "       'split0_test_score', 'split1_test_score', 'split2_test_score',\n",
       "       'mean_test_score', 'std_test_score', 'rank_test_score'],\n",
       "      dtype='object')"
      ]
     },
     "execution_count": 14,
     "metadata": {},
     "output_type": "execute_result"
    }
   ],
   "source": [
    "SVC_results_IN.columns"
   ]
  },
  {
   "cell_type": "code",
   "execution_count": 15,
   "metadata": {},
   "outputs": [
    {
     "data": {
      "text/plain": [
       "param_tfidf__ngram_range\n",
       "(1, 1)    0.763091\n",
       "(1, 2)    0.769846\n",
       "(1, 3)    0.770639\n",
       "Name: mean_test_score, dtype: float64"
      ]
     },
     "execution_count": 15,
     "metadata": {},
     "output_type": "execute_result"
    }
   ],
   "source": [
    "SVC_results_IN.groupby(['param_tfidf__ngram_range'])['mean_test_score'].mean()"
   ]
  },
  {
   "cell_type": "code",
   "execution_count": 36,
   "metadata": {},
   "outputs": [
    {
     "data": {
      "text/html": [
       "<div>\n",
       "<style scoped>\n",
       "    .dataframe tbody tr th:only-of-type {\n",
       "        vertical-align: middle;\n",
       "    }\n",
       "\n",
       "    .dataframe tbody tr th {\n",
       "        vertical-align: top;\n",
       "    }\n",
       "\n",
       "    .dataframe thead th {\n",
       "        text-align: right;\n",
       "    }\n",
       "</style>\n",
       "<table border=\"1\" class=\"dataframe\">\n",
       "  <thead>\n",
       "    <tr style=\"text-align: right;\">\n",
       "      <th></th>\n",
       "      <th>param_tfidf__ngram_range</th>\n",
       "      <th>mean_test_score</th>\n",
       "    </tr>\n",
       "  </thead>\n",
       "  <tbody>\n",
       "    <tr>\n",
       "      <th>294</th>\n",
       "      <td>(1, 1)</td>\n",
       "      <td>0.774148</td>\n",
       "    </tr>\n",
       "    <tr>\n",
       "      <th>302</th>\n",
       "      <td>(1, 2)</td>\n",
       "      <td>0.790668</td>\n",
       "    </tr>\n",
       "    <tr>\n",
       "      <th>310</th>\n",
       "      <td>(1, 3)</td>\n",
       "      <td>0.794450</td>\n",
       "    </tr>\n",
       "  </tbody>\n",
       "</table>\n",
       "</div>"
      ],
      "text/plain": [
       "    param_tfidf__ngram_range  mean_test_score\n",
       "294                   (1, 1)         0.774148\n",
       "302                   (1, 2)         0.790668\n",
       "310                   (1, 3)         0.794450"
      ]
     },
     "execution_count": 36,
     "metadata": {},
     "output_type": "execute_result"
    }
   ],
   "source": [
    "SVC_results_IN.loc[\n",
    "    (SVC_results_IN['param_linearSVC__C'] == 1) &\n",
    "    (SVC_results_IN['param_linearSVC__class_weight'] == 'balanced') &\n",
    "    (SVC_results_IN['param_linearSVC__dual'] == False) &\n",
    "    (SVC_results_IN['param_linearSVC__fit_intercept'] == False) &\n",
    "    (SVC_results_IN['param_linearSVC__max_iter'] == 100) &\n",
    "    (SVC_results_IN['param_linearSVC__penalty'] == 'l2') &\n",
    "    (SVC_results_IN['param_linearSVC__random_state'] == 42) &\n",
    "    (SVC_results_IN['param_linearSVC__tol'] == 0.001) &\n",
    "    (SVC_results_IN['param_tfidf__binary'] == True) &\n",
    "    (SVC_results_IN['param_tfidf__max_df'] == 1.0) &\n",
    "    (SVC_results_IN['param_tfidf__max_features'].isna()) &\n",
    "    (SVC_results_IN['param_tfidf__min_df'] == 1) &\n",
    "    # (SVC_results_IN['param_tfidf__ngram_range'] == '(1, 3)') &\n",
    "    (SVC_results_IN['param_tfidf__norm'] == 'l2') &\n",
    "    (SVC_results_IN['param_tfidf__smooth_idf'] == False) &\n",
    "    (SVC_results_IN['param_tfidf__stop_words'].isna()) &\n",
    "    (SVC_results_IN['param_tfidf__sublinear_tf'] == False) &\n",
    "    (SVC_results_IN['param_tfidf__use_idf'] == True),\n",
    "    ['param_tfidf__ngram_range','mean_test_score']\n",
    "]\n"
   ]
  },
  {
   "cell_type": "code",
   "execution_count": 38,
   "metadata": {},
   "outputs": [
    {
     "data": {
      "text/html": [
       "<div>\n",
       "<style scoped>\n",
       "    .dataframe tbody tr th:only-of-type {\n",
       "        vertical-align: middle;\n",
       "    }\n",
       "\n",
       "    .dataframe tbody tr th {\n",
       "        vertical-align: top;\n",
       "    }\n",
       "\n",
       "    .dataframe thead th {\n",
       "        text-align: right;\n",
       "    }\n",
       "</style>\n",
       "<table border=\"1\" class=\"dataframe\">\n",
       "  <thead>\n",
       "    <tr style=\"text-align: right;\">\n",
       "      <th></th>\n",
       "      <th>mean_fit_time</th>\n",
       "      <th>std_fit_time</th>\n",
       "      <th>mean_score_time</th>\n",
       "      <th>std_score_time</th>\n",
       "      <th>param_linearSVC__C</th>\n",
       "      <th>param_linearSVC__class_weight</th>\n",
       "      <th>param_linearSVC__dual</th>\n",
       "      <th>param_linearSVC__fit_intercept</th>\n",
       "      <th>param_linearSVC__max_iter</th>\n",
       "      <th>param_linearSVC__penalty</th>\n",
       "      <th>...</th>\n",
       "      <th>param_tfidf__stop_words</th>\n",
       "      <th>param_tfidf__sublinear_tf</th>\n",
       "      <th>param_tfidf__use_idf</th>\n",
       "      <th>params</th>\n",
       "      <th>split0_test_score</th>\n",
       "      <th>split1_test_score</th>\n",
       "      <th>split2_test_score</th>\n",
       "      <th>mean_test_score</th>\n",
       "      <th>std_test_score</th>\n",
       "      <th>rank_test_score</th>\n",
       "    </tr>\n",
       "  </thead>\n",
       "  <tbody>\n",
       "    <tr>\n",
       "      <th>310</th>\n",
       "      <td>33.216188</td>\n",
       "      <td>4.034124</td>\n",
       "      <td>4.571334</td>\n",
       "      <td>0.08775</td>\n",
       "      <td>1</td>\n",
       "      <td>balanced</td>\n",
       "      <td>False</td>\n",
       "      <td>False</td>\n",
       "      <td>100</td>\n",
       "      <td>l2</td>\n",
       "      <td>...</td>\n",
       "      <td>NaN</td>\n",
       "      <td>False</td>\n",
       "      <td>True</td>\n",
       "      <td>{'linearSVC__C': 1, 'linearSVC__class_weight':...</td>\n",
       "      <td>0.793472</td>\n",
       "      <td>0.794784</td>\n",
       "      <td>0.795095</td>\n",
       "      <td>0.79445</td>\n",
       "      <td>0.000703</td>\n",
       "      <td>1</td>\n",
       "    </tr>\n",
       "  </tbody>\n",
       "</table>\n",
       "<p>1 rows × 29 columns</p>\n",
       "</div>"
      ],
      "text/plain": [
       "     mean_fit_time  std_fit_time  mean_score_time  std_score_time  \\\n",
       "310      33.216188      4.034124         4.571334         0.08775   \n",
       "\n",
       "     param_linearSVC__C param_linearSVC__class_weight  param_linearSVC__dual  \\\n",
       "310                   1                      balanced                  False   \n",
       "\n",
       "     param_linearSVC__fit_intercept  param_linearSVC__max_iter  \\\n",
       "310                           False                        100   \n",
       "\n",
       "    param_linearSVC__penalty  ...  param_tfidf__stop_words  \\\n",
       "310                       l2  ...                      NaN   \n",
       "\n",
       "     param_tfidf__sublinear_tf  param_tfidf__use_idf  \\\n",
       "310                      False                  True   \n",
       "\n",
       "                                                params  split0_test_score  \\\n",
       "310  {'linearSVC__C': 1, 'linearSVC__class_weight':...           0.793472   \n",
       "\n",
       "     split1_test_score split2_test_score mean_test_score  std_test_score  \\\n",
       "310           0.794784          0.795095         0.79445        0.000703   \n",
       "\n",
       "    rank_test_score  \n",
       "310               1  \n",
       "\n",
       "[1 rows x 29 columns]"
      ]
     },
     "execution_count": 38,
     "metadata": {},
     "output_type": "execute_result"
    }
   ],
   "source": [
    "SVC_results_IN[SVC_results_IN['rank_test_score']==1]"
   ]
  },
  {
   "cell_type": "markdown",
   "metadata": {},
   "source": [
    "## Parameters"
   ]
  },
  {
   "cell_type": "code",
   "execution_count": null,
   "metadata": {},
   "outputs": [],
   "source": [
    "model = LinearSVC(\n",
    "    C = 1, \n",
    "    class_weight = 'balanced', \n",
    "    dual = False, \n",
    "    fit_intercept = False, \n",
    "    max_iter = 100, \n",
    "    penalty = 'l2', \n",
    "    random_state = 42, \n",
    "    tol = 0.001\n",
    ")\n",
    "\n",
    "vectorizer = TfidfVectorizer(\n",
    "    binary = True, \n",
    "    max_df = 1.0, \n",
    "    max_features = None, \n",
    "    min_df = 1, \n",
    "    ngram_range = (1,3), \n",
    "    norm = 'l2', \n",
    "    smooth_idf = False, \n",
    "    stop_words = None, \n",
    "    sublinear_tf = False, \n",
    "    use_idf = True\n",
    ")"
   ]
  },
  {
   "cell_type": "code",
   "execution_count": null,
   "metadata": {},
   "outputs": [],
   "source": [
    "model = MultinomialNB(alpha = 0.1)\n",
    "\n",
    "vectorizer = TfidfVectorizer(\n",
    "    binary = True, \n",
    "    max_df = 1.0, \n",
    "    max_features = None, \n",
    "    min_df = 1, \n",
    "    ngram_range = (1,3), \n",
    "    norm = 'l2', \n",
    "    smooth_idf = True, \n",
    "    stop_words = None, \n",
    "    sublinear_tf = False, \n",
    "    use_idf = True\n",
    ")"
   ]
  },
  {
   "cell_type": "markdown",
   "metadata": {},
   "source": [
    "## Plot"
   ]
  },
  {
   "cell_type": "code",
   "execution_count": 61,
   "metadata": {},
   "outputs": [
    {
     "data": {
      "text/html": [
       "<div>\n",
       "<style scoped>\n",
       "    .dataframe tbody tr th:only-of-type {\n",
       "        vertical-align: middle;\n",
       "    }\n",
       "\n",
       "    .dataframe tbody tr th {\n",
       "        vertical-align: top;\n",
       "    }\n",
       "\n",
       "    .dataframe thead th {\n",
       "        text-align: right;\n",
       "    }\n",
       "</style>\n",
       "<table border=\"1\" class=\"dataframe\">\n",
       "  <thead>\n",
       "    <tr style=\"text-align: right;\">\n",
       "      <th></th>\n",
       "      <th>index</th>\n",
       "      <th>N-Gram range</th>\n",
       "      <th>macro f1 score</th>\n",
       "      <th>Model</th>\n",
       "    </tr>\n",
       "  </thead>\n",
       "  <tbody>\n",
       "    <tr>\n",
       "      <th>0</th>\n",
       "      <td>294</td>\n",
       "      <td>(1, 1)</td>\n",
       "      <td>0.774148</td>\n",
       "      <td>Linear SVC</td>\n",
       "    </tr>\n",
       "    <tr>\n",
       "      <th>1</th>\n",
       "      <td>302</td>\n",
       "      <td>(1, 2)</td>\n",
       "      <td>0.790668</td>\n",
       "      <td>Linear SVC</td>\n",
       "    </tr>\n",
       "    <tr>\n",
       "      <th>2</th>\n",
       "      <td>310</td>\n",
       "      <td>(1, 3)</td>\n",
       "      <td>0.794450</td>\n",
       "      <td>Linear SVC</td>\n",
       "    </tr>\n",
       "    <tr>\n",
       "      <th>3</th>\n",
       "      <td>294</td>\n",
       "      <td>(1, 1)</td>\n",
       "      <td>0.721740</td>\n",
       "      <td>Multinomial NB</td>\n",
       "    </tr>\n",
       "    <tr>\n",
       "      <th>4</th>\n",
       "      <td>302</td>\n",
       "      <td>(1, 2)</td>\n",
       "      <td>0.754479</td>\n",
       "      <td>Multinomial NB</td>\n",
       "    </tr>\n",
       "    <tr>\n",
       "      <th>5</th>\n",
       "      <td>310</td>\n",
       "      <td>(1, 3)</td>\n",
       "      <td>0.758343</td>\n",
       "      <td>Multinomial NB</td>\n",
       "    </tr>\n",
       "  </tbody>\n",
       "</table>\n",
       "</div>"
      ],
      "text/plain": [
       "   index N-Gram range  macro f1 score           Model\n",
       "0    294       (1, 1)        0.774148      Linear SVC\n",
       "1    302       (1, 2)        0.790668      Linear SVC\n",
       "2    310       (1, 3)        0.794450      Linear SVC\n",
       "3    294       (1, 1)        0.721740  Multinomial NB\n",
       "4    302       (1, 2)        0.754479  Multinomial NB\n",
       "5    310       (1, 3)        0.758343  Multinomial NB"
      ]
     },
     "execution_count": 61,
     "metadata": {},
     "output_type": "execute_result"
    }
   ],
   "source": [
    "NB_results = NB_results_IN.loc[\n",
    "    (NB_results_IN['param_multinomialNB__alpha'] == 0.1) &\n",
    "    (NB_results_IN['param_tfidf__binary'] == True) &\n",
    "    (NB_results_IN['param_tfidf__max_df'] == 1.0) &\n",
    "    (NB_results_IN['param_tfidf__max_features'].isna()) &\n",
    "    (NB_results_IN['param_tfidf__min_df'] == 1) &\n",
    "    # (NB_results_IN['param_tfidf__ngram_range'] == '(1, 3)') &\n",
    "    (NB_results_IN['param_tfidf__norm'] == 'l2') &\n",
    "    (NB_results_IN['param_tfidf__smooth_idf'] == False) &\n",
    "    (NB_results_IN['param_tfidf__stop_words'].isna()) &\n",
    "    (NB_results_IN['param_tfidf__sublinear_tf'] == False) &\n",
    "    (NB_results_IN['param_tfidf__use_idf'] == True),\n",
    "    ['param_tfidf__ngram_range','mean_test_score']\n",
    "]\n",
    "NB_results['Model'] = 'Multinomial NB'\n",
    "\n",
    "SVC_results = SVC_results_IN.loc[\n",
    "    (SVC_results_IN['param_linearSVC__C'] == 1) &\n",
    "    (SVC_results_IN['param_linearSVC__class_weight'] == 'balanced') &\n",
    "    (SVC_results_IN['param_linearSVC__dual'] == False) &\n",
    "    (SVC_results_IN['param_linearSVC__fit_intercept'] == False) &\n",
    "    (SVC_results_IN['param_linearSVC__max_iter'] == 100) &\n",
    "    (SVC_results_IN['param_linearSVC__penalty'] == 'l2') &\n",
    "    (SVC_results_IN['param_linearSVC__random_state'] == 42) &\n",
    "    (SVC_results_IN['param_linearSVC__tol'] == 0.001) &\n",
    "    (SVC_results_IN['param_tfidf__binary'] == True) &\n",
    "    (SVC_results_IN['param_tfidf__max_df'] == 1.0) &\n",
    "    (SVC_results_IN['param_tfidf__max_features'].isna()) &\n",
    "    (SVC_results_IN['param_tfidf__min_df'] == 1) &\n",
    "    # (SVC_results_IN['param_tfidf__ngram_range'] == '(1, 3)') &\n",
    "    (SVC_results_IN['param_tfidf__norm'] == 'l2') &\n",
    "    (SVC_results_IN['param_tfidf__smooth_idf'] == False) &\n",
    "    (SVC_results_IN['param_tfidf__stop_words'].isna()) &\n",
    "    (SVC_results_IN['param_tfidf__sublinear_tf'] == False) &\n",
    "    (SVC_results_IN['param_tfidf__use_idf'] == True),\n",
    "    ['param_tfidf__ngram_range','mean_test_score']\n",
    "]\n",
    "SVC_results['Model'] = 'Linear SVC'\n",
    "\n",
    "results = SVC_results.append(NB_results)\n",
    "\n",
    "results = results.rename(columns={'param_tfidf__ngram_range' : 'N-Gram range', 'mean_test_score' : 'macro f1 score'}).reset_index()\n",
    "\n",
    "results"
   ]
  },
  {
   "cell_type": "code",
   "execution_count": 63,
   "metadata": {},
   "outputs": [
    {
     "data": {
      "image/png": "[encoded data removed]",
      "text/plain": [
       "<Figure size 432x288 with 1 Axes>"
      ]
     },
     "metadata": {},
     "output_type": "display_data"
    }
   ],
   "source": [
    "import seaborn as sns\n",
    "import matplotlib.pyplot as plt\n",
    "sns.set_theme()\n",
    "sns.set_style('whitegrid')\n",
    "sns.set_palette('dark')\n",
    "\n",
    "sns.lineplot(\n",
    "    data=results,\n",
    "    x='N-Gram range',\n",
    "    y='macro f1 score',\n",
    "    hue='Model'\n",
    ")\n",
    "\n",
    "plt.savefig(Path.cwd()/'Report'/'DSL-report'/'images'/'ngram_f1_score.png', dpi = 200)"
   ]
  }
 ],
 "metadata": {
  "interpreter": {
   "hash": "bd8ee3559d665fee903f84f74f9742602cb00cb47768a52cae0fe6e115d1a823"
  },
  "kernelspec": {
   "display_name": "Python 3.8.12 64-bit ('data_science_lab_2': conda)",
   "language": "python",
   "name": "python3"
  },
  "language_info": {
   "codemirror_mode": {
    "name": "ipython",
    "version": 3
   },
   "file_extension": ".py",
   "mimetype": "text/x-python",
   "name": "python",
   "nbconvert_exporter": "python",
   "pygments_lexer": "ipython3",
   "version": "3.8.12"
  },
  "orig_nbformat": 4
 },
 "nbformat": 4,
 "nbformat_minor": 2
}
