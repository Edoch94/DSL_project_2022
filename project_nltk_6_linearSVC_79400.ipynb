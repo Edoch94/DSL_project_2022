{
 "cells": [
  {
   "cell_type": "code",
   "execution_count": 128,
   "metadata": {},
   "outputs": [],
   "source": [
    "from zipfile import ZipFile\n",
    "from pathlib import Path\n",
    "\n",
    "import pandas as pd\n",
    "import numpy as np\n",
    "\n",
    "import matplotlib.pyplot as plt\n",
    "import seaborn as sns"
   ]
  },
  {
   "cell_type": "code",
   "execution_count": 129,
   "metadata": {},
   "outputs": [],
   "source": [
    "# import cupy \n",
    "# import cudf"
   ]
  },
  {
   "cell_type": "code",
   "execution_count": 130,
   "metadata": {},
   "outputs": [],
   "source": [
    "df_dev = pd.read_csv(Path.cwd()/'data'/'DSL2122_january_dataset'/'development.csv')\n",
    "df_eval = pd.read_csv(Path.cwd()/'data'/'DSL2122_january_dataset'/'evaluation.csv')"
   ]
  },
  {
   "cell_type": "code",
   "execution_count": 131,
   "metadata": {},
   "outputs": [
    {
     "data": {
      "text/plain": [
       "(74999, 5)"
      ]
     },
     "execution_count": 131,
     "metadata": {},
     "output_type": "execute_result"
    }
   ],
   "source": [
    "df_eval.shape"
   ]
  },
  {
   "cell_type": "code",
   "execution_count": 132,
   "metadata": {},
   "outputs": [],
   "source": [
    "df = df_dev.append(df_eval)"
   ]
  },
  {
   "cell_type": "code",
   "execution_count": 133,
   "metadata": {},
   "outputs": [],
   "source": [
    "# df['date'] = df['date'].\\\n",
    "#     astype('string')\\\n",
    "#     .str.split(' ')\\\n",
    "#     .apply(lambda x : ' '.join([x[i] for i in [1,2,3,5]]))\\\n",
    "#     .pipe(pd.to_datetime)"
   ]
  },
  {
   "cell_type": "markdown",
   "metadata": {},
   "source": [
    "### Stopwords analysis: sklearn, nltk, stop_words"
   ]
  },
  {
   "cell_type": "markdown",
   "metadata": {},
   "source": [
    "#### nltk"
   ]
  },
  {
   "cell_type": "code",
   "execution_count": 134,
   "metadata": {},
   "outputs": [
    {
     "name": "stderr",
     "output_type": "stream",
     "text": [
      "[nltk_data] Downloading package stopwords to /home/edoch/nltk_data...\n",
      "[nltk_data]   Package stopwords is already up-to-date!\n"
     ]
    }
   ],
   "source": [
    "from nltk import download as nltk_download\n",
    "\n",
    "nltk_download('stopwords')\n",
    "\n",
    "from nltk.corpus import stopwords\n",
    "\n",
    "nltk_stopwords = stopwords.words('english')"
   ]
  },
  {
   "cell_type": "markdown",
   "metadata": {},
   "source": [
    "#### sklearn"
   ]
  },
  {
   "cell_type": "code",
   "execution_count": 135,
   "metadata": {},
   "outputs": [],
   "source": [
    "from sklearn.feature_extraction import text\n",
    "\n",
    "sklearn_stopwords = list(text.ENGLISH_STOP_WORDS)"
   ]
  },
  {
   "cell_type": "markdown",
   "metadata": {},
   "source": [
    "#### stop_words"
   ]
  },
  {
   "cell_type": "code",
   "execution_count": 136,
   "metadata": {},
   "outputs": [],
   "source": [
    "# from stop_words import get_stop_words\n",
    "\n",
    "# stop_words_stopwords = get_stop_words('english')"
   ]
  },
  {
   "cell_type": "markdown",
   "metadata": {},
   "source": [
    "I should try to use both all stopwords, and sklearn and nltk stopwords singularly (and also no stopwords)"
   ]
  },
  {
   "cell_type": "code",
   "execution_count": 137,
   "metadata": {},
   "outputs": [],
   "source": [
    "def stopwords_list_gen(source_list = [sklearn_stopwords,nltk_stopwords], generate_neg = True):\n",
    "    stopwords_all_list = set()\n",
    "    for source in source_list:\n",
    "        stopwords_all_list = stopwords_all_list.union(set(source))\n",
    "        if generate_neg:\n",
    "            stopwords_all_list = stopwords_all_list.union(set([f'{i+\"_neg\"}' for i in source]))\n",
    "    return stopwords_all_list"
   ]
  },
  {
   "cell_type": "markdown",
   "metadata": {},
   "source": [
    "## Preprocessing"
   ]
  },
  {
   "cell_type": "markdown",
   "metadata": {},
   "source": [
    "Tokenization"
   ]
  },
  {
   "cell_type": "code",
   "execution_count": 138,
   "metadata": {},
   "outputs": [],
   "source": [
    "df['text_token'] = df['text'].str.split()"
   ]
  },
  {
   "cell_type": "markdown",
   "metadata": {},
   "source": [
    "Removal of '@words', '&words', 'http:words'"
   ]
  },
  {
   "cell_type": "code",
   "execution_count": 139,
   "metadata": {},
   "outputs": [],
   "source": [
    "df['text_noAt'] = df['text_token'].apply(lambda x : [i for i in x if not(i.startswith('@'))])\\\n",
    "    .apply(lambda x : [i for i in x if not(i.startswith('&'))])\\\n",
    "    .apply(lambda x : [i for i in x if not(i.startswith('http:'))])"
   ]
  },
  {
   "cell_type": "markdown",
   "metadata": {},
   "source": [
    "Removal of '&amp', '&quot'"
   ]
  },
  {
   "cell_type": "code",
   "execution_count": 140,
   "metadata": {},
   "outputs": [],
   "source": [
    "df['text_noAmpQuot'] = df['text_noAt']\\\n",
    "    .apply(lambda x : [i for i in x if '&amp' not in i])\\\n",
    "    .apply(lambda x : [i for i in x if '&quot' not in i])"
   ]
  },
  {
   "cell_type": "markdown",
   "metadata": {},
   "source": [
    "Removal of repeated letters (incomplete)"
   ]
  },
  {
   "cell_type": "code",
   "execution_count": 141,
   "metadata": {},
   "outputs": [],
   "source": [
    "a = 'ulaaa'\n",
    "\n",
    "def remove_repeated_letters(word):\n",
    "    for letter in word:\n",
    "        print(letter)\n",
    "\n",
    "# nltk_stemmer.stem(a)"
   ]
  },
  {
   "cell_type": "markdown",
   "metadata": {},
   "source": [
    "Remove puntuation"
   ]
  },
  {
   "cell_type": "code",
   "execution_count": 142,
   "metadata": {},
   "outputs": [],
   "source": [
    "import string as py_string\n",
    "df['text_noPunct'] = df['text_noAmpQuot']\\\n",
    "    .apply(lambda x : [i.translate(str.maketrans('', '', py_string.punctuation)) for i in x])\\\n",
    "    .apply(lambda x : [i for i in x if i != ''])"
   ]
  },
  {
   "cell_type": "markdown",
   "metadata": {},
   "source": [
    "Stemming and lemmatization"
   ]
  },
  {
   "cell_type": "code",
   "execution_count": 143,
   "metadata": {},
   "outputs": [],
   "source": [
    "from nltk.stem import PorterStemmer, LancasterStemmer, SnowballStemmer, WordNetLemmatizer\n",
    "\n",
    "# nltk_download('wordnet')\n",
    "# nltk_download('omw-1.4')\n",
    "# nltk_lemmatizer = WordNetLemmatizer()\n",
    "# from nltk.corpus import wordnet\n",
    "\n",
    "nltk_stemmer = PorterStemmer()\n",
    "# nltk_stemmer = LancasterStemmer()\n",
    "# nltk_stemmer = SnowballStemmer('english') \n",
    "\n",
    "df['text_stemmed'] = df['text_noPunct'].apply(lambda x : [nltk_stemmer.stem(word) for word in x])\n",
    "# df['text_stemmed'] = df['text_noPunct'].apply(lambda x : [nltk_lemmatizer.lemmatize(word) for word in x])"
   ]
  },
  {
   "cell_type": "markdown",
   "metadata": {},
   "source": [
    "Negation"
   ]
  },
  {
   "cell_type": "code",
   "execution_count": 144,
   "metadata": {},
   "outputs": [],
   "source": [
    "from nltk.sentiment.util import mark_negation\n",
    "\n",
    "df['text_neg'] = df['text_noPunct'].apply(lambda x : mark_negation(x))\n",
    "df['text_stemmed_neg'] = df['text_stemmed'].apply(lambda x : mark_negation(x))"
   ]
  },
  {
   "cell_type": "markdown",
   "metadata": {},
   "source": [
    "Removal of stopwords"
   ]
  },
  {
   "cell_type": "code",
   "execution_count": 145,
   "metadata": {},
   "outputs": [],
   "source": [
    "from stop_words import get_stop_words\n",
    "\n",
    "stop_words_stopwords = get_stop_words('english')\n",
    "\n",
    "considered_stopwords = stop_words_stopwords + [f'{word}_neg' for word in stop_words_stopwords]\n",
    "\n",
    "df['text_noStopwords'] = df['text_neg'].apply(lambda x : [i for i in x if i not in considered_stopwords])"
   ]
  },
  {
   "cell_type": "markdown",
   "metadata": {},
   "source": [
    "User manual filter"
   ]
  },
  {
   "cell_type": "code",
   "execution_count": 146,
   "metadata": {},
   "outputs": [],
   "source": [
    "df = df.loc[\n",
    "    (~(df['user'] == 'lost_dog') &\n",
    "    ~(df['user'] == 'webwoke') &\n",
    "    ~(df['user'] == 'tweetpet') &\n",
    "    ~(df['user'].str.contains('tweeteradder')) &\n",
    "    ~(df['user'].str.contains('tweetfollow')) &\n",
    "    ~(df['user'] == 'divxdownloads')) |\n",
    "    df['sentiment'].isna()\n",
    "]"
   ]
  },
  {
   "cell_type": "code",
   "execution_count": 147,
   "metadata": {},
   "outputs": [
    {
     "data": {
      "text/plain": [
       "(74999, 14)"
      ]
     },
     "execution_count": 147,
     "metadata": {},
     "output_type": "execute_result"
    }
   ],
   "source": [
    "df[df['sentiment'].isna()].shape"
   ]
  },
  {
   "cell_type": "markdown",
   "metadata": {},
   "source": [
    "## Model creation"
   ]
  },
  {
   "cell_type": "code",
   "execution_count": 148,
   "metadata": {},
   "outputs": [],
   "source": [
    "from sklearn.model_selection import ParameterGrid\n",
    "\n",
    "linearSVC_params = {\n",
    "    'penalty' : ['l1'], #['l1','l2']\n",
    "    'dual' : [False],\n",
    "    'tol' : [1e-3,1e-4],\n",
    "    'fit_intercept' : [False],\n",
    "    'class_weight' : ['balanced'],\n",
    "    'max_iter' : [100,300],\n",
    "    'random_state' : [42],\n",
    "    'C' : [1,10,50]\n",
    "}\n",
    "\n",
    "TfidfVectorizer_params = {\n",
    "    'stop_words' : [None],\n",
    "    'ngram_range' : [(1,1)],\n",
    "    'max_features' : [None, 15000],\n",
    "    'max_df' : [1.0,0.1,0.005],\n",
    "    'min_df' : [1,0.00001],\n",
    "    'binary' : [True,False],\n",
    "    'norm' : ['l1','l2'],\n",
    "    'use_idf' : [True],\n",
    "    'smooth_idf' : [True,False],\n",
    "    'sublinear_tf' : [False]\n",
    "}"
   ]
  },
  {
   "cell_type": "code",
   "execution_count": 149,
   "metadata": {},
   "outputs": [
    {
     "name": "stdout",
     "output_type": "stream",
     "text": [
      "1152\n",
      "9.6\n"
     ]
    }
   ],
   "source": [
    "print(len(list(ParameterGrid(TfidfVectorizer_params)))*len(list(ParameterGrid(linearSVC_params))))\n",
    "\n",
    "print(len(list(ParameterGrid(TfidfVectorizer_params)))*len(list(ParameterGrid(linearSVC_params)))*30/60/60)"
   ]
  },
  {
   "cell_type": "markdown",
   "metadata": {},
   "source": [
    "# Grid search"
   ]
  },
  {
   "cell_type": "code",
   "execution_count": 150,
   "metadata": {},
   "outputs": [],
   "source": [
    "# from sklearn.model_selection import GridSearchCV\n",
    "# from sklearn.pipeline import Pipeline\n",
    "# from sklearn.feature_extraction.text import TfidfVectorizer\n",
    "# from sklearn.svm import LinearSVC\n",
    "# from sklearn.model_selection import train_test_split\n",
    "# from sklearn.metrics import f1_score, classification_report, confusion_matrix\n",
    "\n",
    "# df_final = df\n",
    "# # df_final['text_final'] = df_final['text_noPunct'].apply(lambda x : ' '.join(x))\n",
    "# df_final['text_final'] = df_final['text_neg'].apply(lambda x : ' '.join(x))\n",
    "\n",
    "# mask_train_test = df_final['sentiment'].notna()\n",
    "\n",
    "# X_train_valid = df_final.loc[mask_train_test,:]['text_final'].values\n",
    "# y_train_valid = df_final.loc[mask_train_test,:]['sentiment'].values\n",
    "# X_test = df_final.loc[~mask_train_test,:]['text_final'].values\n",
    "\n",
    "# X_train, X_valid, y_train, y_valid = train_test_split(\n",
    "#     X_train_valid, \n",
    "#     y_train_valid, \n",
    "#     shuffle=True, \n",
    "#     # stratify=y_train_valid, \n",
    "#     train_size=0.9, \n",
    "#     random_state=42\n",
    "# )\n",
    "\n",
    "# vectorizer = 'tfidf'\n",
    "# model = 'linearSVC'\n",
    "\n",
    "# pipe = Pipeline([\n",
    "#     (vectorizer, TfidfVectorizer()),\n",
    "#     (model, LinearSVC())\n",
    "# ])\n",
    "\n",
    "# def params_for_GridSearchCV(params_IN,step_name):\n",
    "#     return {f'{step_name}__{key}':value for (key,value) in params_IN.items()}\n",
    "\n",
    "# params_all = params_for_GridSearchCV(TfidfVectorizer_params,vectorizer)\n",
    "# params_all.update(params_for_GridSearchCV(linearSVC_params,model))\n",
    "# print(params_all)\n",
    "\n",
    "# gscv = GridSearchCV(pipe, params_all, cv = 3, verbose = 4, scoring='f1_macro')\n",
    "\n",
    "# gscv.fit(X_train, y_train)\n",
    "\n",
    "# f1 = f1_score(y_valid, gscv.predict(X_valid),average='macro')\n",
    "# report = classification_report(y_valid, gscv.predict(X_valid))\n",
    "# confusion = confusion_matrix(y_valid, gscv.predict(X_valid))\n",
    "\n",
    "# print(f1)\n",
    "# print(report)\n",
    "# print(confusion)\n",
    "\n",
    "# from pathlib import Path\n",
    "# from datetime import datetime\n",
    "\n",
    "# results_name = Path.cwd()/'gscv_results'/(str(datetime.now()).replace('.','-').replace(':','-')+'.csv')\n",
    "\n",
    "# pd.DataFrame(gscv.cv_results_).to_csv(results_name)"
   ]
  },
  {
   "cell_type": "code",
   "execution_count": 151,
   "metadata": {},
   "outputs": [],
   "source": [
    "# a = pd.read_csv('gscv_results\\\\2022-01-12 20-43-02-990406.csv')\n",
    "# print(a.loc[a['rank_test_score']==1]['params'].iloc[0])\n",
    "# print(a.loc[a['rank_test_score']==1]['params'].iloc[1])"
   ]
  },
  {
   "cell_type": "markdown",
   "metadata": {},
   "source": [
    "# Best models test"
   ]
  },
  {
   "cell_type": "code",
   "execution_count": 152,
   "metadata": {},
   "outputs": [],
   "source": [
    "# from sklearn.model_selection import GridSearchCV\n",
    "# from sklearn.pipeline import Pipeline\n",
    "# from sklearn.feature_extraction.text import TfidfVectorizer\n",
    "# from sklearn.svm import LinearSVC\n",
    "# from sklearn.model_selection import train_test_split\n",
    "# from sklearn.metrics import f1_score, classification_report, confusion_matrix\n",
    "\n",
    "# df_final = df\n",
    "# # df_final['text_final'] = df_final['text_noPunct'].apply(lambda x : ' '.join(x))\n",
    "# df_final['text_final'] = df_final['text_neg'].apply(lambda x : ' '.join(x))\n",
    "\n",
    "# mask_train_test = df_final['sentiment'].notna()\n",
    "\n",
    "# X_train_valid = df_final.loc[mask_train_test,:]['text_final'].values\n",
    "# y_train_valid = df_final.loc[mask_train_test,:]['sentiment'].values\n",
    "# X_test = df_final.loc[~mask_train_test,:]['text_final'].values\n",
    "\n",
    "# X_train, X_valid, y_train, y_valid = train_test_split(\n",
    "#     X_train_valid, \n",
    "#     y_train_valid, \n",
    "#     shuffle=True, \n",
    "#     # stratify=y_train_valid, \n",
    "#     train_size=0.9, \n",
    "#     random_state=42\n",
    "# )\n",
    "\n",
    "# vectorizer = TfidfVectorizer(\n",
    "#     binary = True, \n",
    "#     max_df = 1.0, \n",
    "#     min_df = 1, \n",
    "#     max_features = None, \n",
    "#     ngram_range = (1,1), \n",
    "#     norm = 'l1', \n",
    "#     smooth_idf = True, \n",
    "#     stop_words = None, \n",
    "#     sublinear_tf = False, \n",
    "#     use_idf = True\n",
    "# )\n",
    "\n",
    "# model = LinearSVC(\n",
    "#     C = 1, \n",
    "#     class_weight = 'balanced', \n",
    "#     dual = False, \n",
    "#     fit_intercept = False, \n",
    "#     max_iter = 100, \n",
    "#     penalty = 'l1', \n",
    "#     random_state = 42, \n",
    "#     tol = 0.001\n",
    "# )\n",
    "\n",
    "# pipe = Pipeline([\n",
    "#     ('tfidf', vectorizer),\n",
    "#     ('linearSVC', model)\n",
    "# ])\n",
    "\n",
    "# pipe.fit(X_train, y_train)\n",
    "\n",
    "# f1 = f1_score(y_valid, pipe.predict(X_valid),average='macro')\n",
    "# report = classification_report(y_valid, pipe.predict(X_valid))\n",
    "# confusion = confusion_matrix(y_valid, pipe.predict(X_valid))\n",
    "\n",
    "# print(f1)\n",
    "# print(report)\n",
    "# print(confusion)"
   ]
  },
  {
   "cell_type": "markdown",
   "metadata": {},
   "source": [
    "# MODIFIED: norm and ngram_range"
   ]
  },
  {
   "cell_type": "code",
   "execution_count": 156,
   "metadata": {},
   "outputs": [
    {
     "name": "stdout",
     "output_type": "stream",
     "text": [
      "0.7940080310661035\n",
      "              precision    recall  f1-score   support\n",
      "\n",
      "         0.0       0.75      0.77      0.76      9395\n",
      "         1.0       0.83      0.82      0.82     12900\n",
      "\n",
      "    accuracy                           0.80     22295\n",
      "   macro avg       0.79      0.80      0.79     22295\n",
      "weighted avg       0.80      0.80      0.80     22295\n",
      "\n",
      "[[ 7275  2120]\n",
      " [ 2375 10525]]\n"
     ]
    }
   ],
   "source": [
    "from sklearn.model_selection import GridSearchCV\n",
    "from sklearn.pipeline import Pipeline\n",
    "from sklearn.feature_extraction.text import TfidfVectorizer\n",
    "from sklearn.svm import LinearSVC\n",
    "from sklearn.model_selection import train_test_split\n",
    "from sklearn.metrics import f1_score, classification_report, confusion_matrix\n",
    "\n",
    "df_final = df\n",
    "# df_final['text_final'] = df_final['text_noPunct'].apply(lambda x : ' '.join(x))\n",
    "df_final['text_final'] = df_final['text_neg'].apply(lambda x : ' '.join(x))\n",
    "# df_final['text_final'] = df_final['text_stemmed_neg'].apply(lambda x : ' '.join(x))\n",
    "# df_final['text_final'] = df_final['text_noStopwords'].apply(lambda x : ' '.join(x))\n",
    "\n",
    "mask_train_test = df_final['sentiment'].notna()\n",
    "\n",
    "X_train_valid = df_final.loc[mask_train_test,:]['text_final'].values\n",
    "y_train_valid = df_final.loc[mask_train_test,:]['sentiment'].values\n",
    "X_test = df_final.loc[~mask_train_test,:]['text_final'].values\n",
    "\n",
    "X_train, X_valid, y_train, y_valid = train_test_split(\n",
    "    X_train_valid, \n",
    "    y_train_valid, \n",
    "    shuffle=True, \n",
    "    # stratify=y_train_valid, \n",
    "    train_size=0.9, \n",
    "    random_state=42\n",
    ")\n",
    "\n",
    "vectorizer = TfidfVectorizer(\n",
    "    binary = True, \n",
    "    max_df = 1.0, \n",
    "    max_features = None, \n",
    "    min_df = 1, \n",
    "    ngram_range = (1,2), \n",
    "    norm = 'l2', \n",
    "    smooth_idf = True, \n",
    "    stop_words = None, \n",
    "    sublinear_tf = False, \n",
    "    use_idf = True\n",
    ")\n",
    "\n",
    "model = LinearSVC(\n",
    "    C = 1, \n",
    "    class_weight = 'balanced', \n",
    "    dual = False, \n",
    "    fit_intercept = False, \n",
    "    max_iter = 100, \n",
    "    penalty = 'l2', \n",
    "    random_state = 42, \n",
    "    tol = 0.001\n",
    ")\n",
    "\n",
    "pipe = Pipeline([\n",
    "    ('tfidf', vectorizer),\n",
    "    ('linearSVC', model)\n",
    "])\n",
    "\n",
    "pipe.fit(X_train, y_train)\n",
    "\n",
    "f1 = f1_score(y_valid, pipe.predict(X_valid),average='macro')\n",
    "report = classification_report(y_valid, pipe.predict(X_valid))\n",
    "confusion = confusion_matrix(y_valid, pipe.predict(X_valid))\n",
    "\n",
    "print(f1)\n",
    "print(report)\n",
    "print(confusion)"
   ]
  },
  {
   "cell_type": "markdown",
   "metadata": {},
   "source": [
    "Best configuration"
   ]
  },
  {
   "cell_type": "code",
   "execution_count": 154,
   "metadata": {},
   "outputs": [],
   "source": [
    "vectorizer = TfidfVectorizer(\n",
    "    binary = True, \n",
    "    max_df = 1.0, \n",
    "    max_features = None, \n",
    "    min_df = 1, \n",
    "    ngram_range = (1,2), \n",
    "    norm = 'l2', \n",
    "    smooth_idf = True, \n",
    "    stop_words = None, \n",
    "    sublinear_tf = False, \n",
    "    use_idf = True\n",
    ")\n",
    "\n",
    "model = LinearSVC(\n",
    "    C = 1, \n",
    "    class_weight = 'balanced', \n",
    "    dual = False, \n",
    "    fit_intercept = False, \n",
    "    max_iter = 100, \n",
    "    penalty = 'l2', \n",
    "    random_state = 42, \n",
    "    tol = 0.001\n",
    ")"
   ]
  },
  {
   "cell_type": "markdown",
   "metadata": {},
   "source": [
    "+ NO stemming: 0.7940080310661035\n",
    "+ Snowball: 0.7964610348816832\n",
    "+ Lancaster: 0.7928841955340026\n",
    "+ Porter: 0.7948018132790293\n",
    "+ Wordnet: 0.7936478185917519"
   ]
  },
  {
   "cell_type": "markdown",
   "metadata": {},
   "source": [
    "Results generation"
   ]
  },
  {
   "cell_type": "code",
   "execution_count": 157,
   "metadata": {},
   "outputs": [],
   "source": [
    "y_pred = pipe.predict(X_test)\n",
    "pd.DataFrame(y_pred.astype(int),columns=['Predicted']).to_csv(\"output_79400_nostem.csv\",index_label=\"Id\", header=[\"Predicted\"])"
   ]
  },
  {
   "cell_type": "code",
   "execution_count": null,
   "metadata": {},
   "outputs": [],
   "source": []
  }
 ],
 "metadata": {
  "interpreter": {
   "hash": "bd8ee3559d665fee903f84f74f9742602cb00cb47768a52cae0fe6e115d1a823"
  },
  "kernelspec": {
   "display_name": "Python 3.8.12 64-bit ('data_science_lab_2': conda)",
   "language": "python",
   "name": "python3"
  },
  "language_info": {
   "codemirror_mode": {
    "name": "ipython",
    "version": 3
   },
   "file_extension": ".py",
   "mimetype": "text/x-python",
   "name": "python",
   "nbconvert_exporter": "python",
   "pygments_lexer": "ipython3",
   "version": "3.8.12"
  },
  "orig_nbformat": 4
 },
 "nbformat": 4,
 "nbformat_minor": 2
}
