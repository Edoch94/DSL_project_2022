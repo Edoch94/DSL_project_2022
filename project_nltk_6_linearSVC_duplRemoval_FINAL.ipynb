{
 "cells": [
  {
   "cell_type": "code",
   "execution_count": 23,
   "metadata": {},
   "outputs": [],
   "source": [
    "from zipfile import ZipFile\n",
    "from pathlib import Path\n",
    "\n",
    "import pandas as pd\n",
    "import numpy as np\n",
    "\n",
    "import matplotlib.pyplot as plt\n",
    "import seaborn as sns"
   ]
  },
  {
   "cell_type": "code",
   "execution_count": 24,
   "metadata": {},
   "outputs": [],
   "source": [
    "# import cupy \n",
    "# import cudf"
   ]
  },
  {
   "cell_type": "code",
   "execution_count": 25,
   "metadata": {},
   "outputs": [],
   "source": [
    "df_dev = pd.read_csv(Path.cwd()/'data'/'DSL2122_january_dataset'/'development.csv')\n",
    "df_eval = pd.read_csv(Path.cwd()/'data'/'DSL2122_january_dataset'/'evaluation.csv')\n",
    "df = df_dev.append(df_eval)"
   ]
  },
  {
   "cell_type": "markdown",
   "metadata": {},
   "source": [
    "## Preprocessing"
   ]
  },
  {
   "cell_type": "markdown",
   "metadata": {},
   "source": [
    "Removal of '&amp'"
   ]
  },
  {
   "cell_type": "code",
   "execution_count": 26,
   "metadata": {},
   "outputs": [],
   "source": [
    "def text_noAmpEnt(df, field_IN, field_OUT):\n",
    "    # df[field_OUT] = df[field_IN].apply(lambda x : [i.replace('&amp;','') for i in x])\n",
    "    df[field_OUT] = df[field_IN].str.replace('&amp;','',case=False)\n",
    "    return df"
   ]
  },
  {
   "cell_type": "markdown",
   "metadata": {},
   "source": [
    "Removal of '&quot'"
   ]
  },
  {
   "cell_type": "code",
   "execution_count": 27,
   "metadata": {},
   "outputs": [],
   "source": [
    "def text_noQuotEnt(df, field_IN, field_OUT):\n",
    "    # df[field_OUT] = df[field_IN].apply(lambda x : [i for i in x if '&quot;' not in i])\n",
    "    df[field_OUT] = df[field_IN].str.replace('&quot;','',case=False)\n",
    "    return df"
   ]
  },
  {
   "cell_type": "markdown",
   "metadata": {},
   "source": [
    "Removal of '@words'"
   ]
  },
  {
   "cell_type": "code",
   "execution_count": 28,
   "metadata": {},
   "outputs": [],
   "source": [
    "def text_noAt(df, field_IN, field_OUT):\n",
    "    df[field_OUT] = df[field_IN]\\\n",
    "        .str.split()\\\n",
    "        .apply(lambda x : [i for i in x if not(i.startswith('@'))])\\\n",
    "        .str.join(' ')\n",
    "    return df"
   ]
  },
  {
   "cell_type": "markdown",
   "metadata": {},
   "source": [
    "Removal of '&words'"
   ]
  },
  {
   "cell_type": "code",
   "execution_count": 29,
   "metadata": {},
   "outputs": [],
   "source": [
    "def text_noAmp(df, field_IN, field_OUT):\n",
    "    df[field_OUT] = df[field_IN]\\\n",
    "        .str.split()\\\n",
    "        .apply(lambda x : [i for i in x if not(i.startswith('&'))])\\\n",
    "        .str.join(' ')\n",
    "    return df"
   ]
  },
  {
   "cell_type": "markdown",
   "metadata": {},
   "source": [
    "Removal of 'http:words'"
   ]
  },
  {
   "cell_type": "code",
   "execution_count": 30,
   "metadata": {},
   "outputs": [],
   "source": [
    "def text_noHttp(df, field_IN, field_OUT):\n",
    "    df[field_OUT] = df[field_IN]\\\n",
    "        .str.split()\\\n",
    "        .apply(lambda x : [i for i in x if not(i.startswith('http'))])\\\n",
    "        .str.join(' ')\n",
    "    return df"
   ]
  },
  {
   "cell_type": "markdown",
   "metadata": {},
   "source": [
    "Removal of repeated letters"
   ]
  },
  {
   "cell_type": "code",
   "execution_count": 31,
   "metadata": {},
   "outputs": [],
   "source": [
    "import re \n",
    "def text_noDuplLetters(df, field_IN, field_OUT):\n",
    "    df[field_OUT] = df[field_IN]\\\n",
    "        .str.split()\\\n",
    "        .apply(lambda x : [re.sub(r'(.)\\1+', r'\\1', word) for word in x])\\\n",
    "        .str.join(' ')\n",
    "    return df\n"
   ]
  },
  {
   "cell_type": "markdown",
   "metadata": {},
   "source": [
    "Remove puntuation"
   ]
  },
  {
   "cell_type": "code",
   "execution_count": 32,
   "metadata": {},
   "outputs": [],
   "source": [
    "import string as py_string\n",
    "def text_noPunctuation(df, field_IN, field_OUT):\n",
    "    df[field_OUT] = df[field_IN].str.translate(str.maketrans('', '', py_string.punctuation))\n",
    "    return df"
   ]
  },
  {
   "cell_type": "markdown",
   "metadata": {},
   "source": [
    "Stemming and lemmatization"
   ]
  },
  {
   "cell_type": "code",
   "execution_count": 33,
   "metadata": {},
   "outputs": [
    {
     "name": "stderr",
     "output_type": "stream",
     "text": [
      "[nltk_data] Downloading package wordnet to\n",
      "[nltk_data]     C:\\Users\\edo_c\\AppData\\Roaming\\nltk_data...\n",
      "[nltk_data]   Package wordnet is already up-to-date!\n",
      "[nltk_data] Downloading package omw-1.4 to\n",
      "[nltk_data]     C:\\Users\\edo_c\\AppData\\Roaming\\nltk_data...\n",
      "[nltk_data]   Package omw-1.4 is already up-to-date!\n"
     ]
    }
   ],
   "source": [
    "from nltk.stem import PorterStemmer, LancasterStemmer, SnowballStemmer, WordNetLemmatizer\n",
    "from nltk import download as nltk_download\n",
    "nltk_download('wordnet')\n",
    "nltk_download('omw-1.4')\n",
    "\n",
    "def text_stem(df, field_IN, field_OUT, stemmer):\n",
    "    if stemmer == SnowballStemmer:\n",
    "        stemmer_to_use = SnowballStemmer('english')\n",
    "    else: \n",
    "        stemmer_to_use = stemmer()\n",
    "    df[field_OUT] = df[field_IN]\\\n",
    "        .str.split()\\\n",
    "        .apply(lambda x : [stemmer_to_use.stem(word) for word in x])\\\n",
    "        .str.join(' ')\n",
    "    return df\n",
    "\n",
    "def text_lemm(df, field_IN, field_OUT, lemmatizer):\n",
    "    df[field_OUT] = df[field_IN]\\\n",
    "        .str.split()\\\n",
    "        .apply(lambda x : [lemmatizer().lemmatize(word) for word in x])\\\n",
    "        .str.join(' ')\n",
    "    return df"
   ]
  },
  {
   "cell_type": "markdown",
   "metadata": {},
   "source": [
    "Negation"
   ]
  },
  {
   "cell_type": "code",
   "execution_count": 34,
   "metadata": {},
   "outputs": [],
   "source": [
    "from nltk.sentiment.util import mark_negation\n",
    "def text_neg(df, field_IN, field_OUT):\n",
    "    df[field_OUT] = df[field_IN]\\\n",
    "        .str.split()\\\n",
    "        .apply(lambda x : mark_negation(x))\\\n",
    "        .str.join(' ')\n",
    "    return df"
   ]
  },
  {
   "cell_type": "markdown",
   "metadata": {},
   "source": [
    "User manual filter"
   ]
  },
  {
   "cell_type": "code",
   "execution_count": 35,
   "metadata": {},
   "outputs": [],
   "source": [
    "# df = df.loc[\n",
    "#     (~(df['user'] == 'lost_dog') &\n",
    "#     ~(df['user'] == 'webwoke') &\n",
    "#     ~(df['user'] == 'tweetpet') &\n",
    "#     ~(df['user'].str.contains('tweeteradder')) &\n",
    "#     ~(df['user'].str.contains('tweetfollow')) &\n",
    "#     ~(df['user'] == 'divxdownloads')) |\n",
    "#     df['sentiment'].isna()\n",
    "# ]\n",
    "# df[df['sentiment'].isna()].shape"
   ]
  },
  {
   "cell_type": "markdown",
   "metadata": {},
   "source": [
    "## Model creation"
   ]
  },
  {
   "cell_type": "code",
   "execution_count": 36,
   "metadata": {},
   "outputs": [
    {
     "name": "stdout",
     "output_type": "stream",
     "text": [
      "768 6.4\n"
     ]
    }
   ],
   "source": [
    "from sklearn.model_selection import ParameterGrid\n",
    "\n",
    "linearSVC_params = {\n",
    "    'penalty' : ['l1','l2'], #['l1','l2']\n",
    "    'dual' : [False],\n",
    "    'tol' : [1e-2,1e-3],\n",
    "    'fit_intercept' : [False],\n",
    "    'class_weight' : ['balanced'],\n",
    "    'max_iter' : [100],\n",
    "    'random_state' : [42],\n",
    "    'C' : [1,10]\n",
    "}\n",
    "\n",
    "TfidfVectorizer_params = {\n",
    "    'stop_words' : [None,'english'],\n",
    "    'ngram_range' : [(1,1),(1,2),(1,3)],\n",
    "    'max_features' : [None,20000],\n",
    "    'max_df' : [1.0],\n",
    "    'min_df' : [1],\n",
    "    'binary' : [True,False],\n",
    "    'norm' : ['l1','l2'],\n",
    "    'use_idf' : [True],\n",
    "    'smooth_idf' : [True,False],\n",
    "    'sublinear_tf' : [False]\n",
    "}\n",
    "\n",
    "\n",
    "number_different_configurations = len(list(ParameterGrid(TfidfVectorizer_params)))*len(list(ParameterGrid(linearSVC_params)))\n",
    "\n",
    "print(number_different_configurations, number_different_configurations*30/60/60)"
   ]
  },
  {
   "cell_type": "markdown",
   "metadata": {},
   "source": [
    "# User suspiciousness"
   ]
  },
  {
   "cell_type": "markdown",
   "metadata": {},
   "source": [
    "average_user_sentiment and extreme_sentiment"
   ]
  },
  {
   "cell_type": "code",
   "execution_count": 37,
   "metadata": {},
   "outputs": [
    {
     "name": "stdout",
     "output_type": "stream",
     "text": [
      "user\n",
      "lost_dog    0.0\n",
      "Name: sentiment, dtype: float64\n",
      "user\n",
      "lost_dog    1.0\n",
      "dtype: float64\n"
     ]
    },
    {
     "data": {
      "text/plain": [
       "(1.0, 0.0)"
      ]
     },
     "execution_count": 37,
     "metadata": {},
     "output_type": "execute_result"
    }
   ],
   "source": [
    "from sklearn.preprocessing import minmax_scale\n",
    "average_user_sentiment = df_dev.groupby('user')['sentiment'].mean()\n",
    "average_user_sentiment = pd.Series(pd.DataFrame(average_user_sentiment)['sentiment'])\n",
    "print(average_user_sentiment[average_user_sentiment.index=='lost_dog'])\n",
    "extreme_sentiment = np.abs(0.5-average_user_sentiment)\n",
    "extreme_sentiment = pd.Series(minmax_scale(extreme_sentiment.values),index=extreme_sentiment.index)\n",
    "print(extreme_sentiment[extreme_sentiment.index=='lost_dog'])\n",
    "\n",
    "extreme_sentiment.max(), extreme_sentiment.min()"
   ]
  },
  {
   "cell_type": "markdown",
   "metadata": {},
   "source": [
    "tweet_per_user"
   ]
  },
  {
   "cell_type": "code",
   "execution_count": 38,
   "metadata": {},
   "outputs": [
    {
     "data": {
      "text/plain": [
       "(1.0, 0.0)"
      ]
     },
     "execution_count": 38,
     "metadata": {},
     "output_type": "execute_result"
    }
   ],
   "source": [
    "from sklearn.preprocessing import minmax_scale\n",
    "tweet_per_user = df_dev['user'].value_counts()\n",
    "# tweet_per_user = pd.Series(normalize(tweet_per_user.values.reshape(1,-1),'max').squeeze(),index=tweet_per_user.index)\n",
    "tweet_per_user = pd.Series(minmax_scale(tweet_per_user.values),index=tweet_per_user.index)\n",
    "\n",
    "tweet_per_user.max(), tweet_per_user.min()"
   ]
  },
  {
   "cell_type": "markdown",
   "metadata": {},
   "source": [
    "user_similarity"
   ]
  },
  {
   "cell_type": "code",
   "execution_count": 39,
   "metadata": {},
   "outputs": [
    {
     "data": {
      "text/plain": [
       "(1.0, 0.0)"
      ]
     },
     "execution_count": 39,
     "metadata": {},
     "output_type": "execute_result"
    }
   ],
   "source": [
    "from sklearn.preprocessing import minmax_scale\n",
    "user_similarity = pd.Series(pd.read_csv('internal_similarity_users.csv').set_index('user')['similarity'])\n",
    "user_similarity = pd.Series(minmax_scale(user_similarity.values),index=user_similarity.index)\n",
    "\n",
    "user_similarity.max(), user_similarity.min()"
   ]
  },
  {
   "cell_type": "markdown",
   "metadata": {},
   "source": [
    "user_suspiciousness"
   ]
  },
  {
   "cell_type": "code",
   "execution_count": 40,
   "metadata": {},
   "outputs": [
    {
     "name": "stdout",
     "output_type": "stream",
     "text": [
      "user\n",
      "lost_dog    1.0\n",
      "dtype: float64\n",
      "user\n",
      "lost_dog    0.888044\n",
      "dtype: float64\n",
      "user\n",
      "lost_dog    0.888044\n",
      "dtype: float64\n"
     ]
    }
   ],
   "source": [
    "user_suspiciousness = (extreme_sentiment*user_similarity)\n",
    "print(extreme_sentiment[extreme_sentiment.index=='lost_dog'])\n",
    "print(user_similarity[user_similarity.index=='lost_dog'])\n",
    "\n",
    "print(user_suspiciousness[user_suspiciousness.index=='lost_dog'])\n"
   ]
  },
  {
   "cell_type": "markdown",
   "metadata": {},
   "source": [
    "# Grid search"
   ]
  },
  {
   "cell_type": "code",
   "execution_count": 41,
   "metadata": {},
   "outputs": [],
   "source": [
    "# from sklearn.model_selection import GridSearchCV\n",
    "# from sklearn.pipeline import Pipeline\n",
    "# from sklearn.feature_extraction.text import TfidfVectorizer, CountVectorizer\n",
    "# from sklearn.svm import LinearSVC\n",
    "# from sklearn.model_selection import train_test_split\n",
    "# from sklearn.metrics import f1_score, classification_report, confusion_matrix\n",
    "# from nltk.stem import PorterStemmer, LancasterStemmer, SnowballStemmer, WordNetLemmatizer\n",
    "\n",
    "# df_final = df.copy(deep=True)\n",
    "\n",
    "# # ---- REMOVAL OF RECORDS WITH DUPLICATE IDS ---- #\n",
    "# duplicated_ids = df_dev['ids'].value_counts()\n",
    "# duplicated_ids = duplicated_ids[duplicated_ids > 1] \n",
    "# df_final = df_final.loc[\n",
    "#     ~(df_final['ids'].isin(list(duplicated_ids.index))) | \n",
    "#     df_final['sentiment'].isna()\n",
    "# ]\n",
    "\n",
    "# # ---- REMOVAL OF BOTS ---- #\n",
    "# # user_similarity = pd.Series(pd.read_csv('internal_similarity_users.csv').set_index('user')['similarity'])\n",
    "# df_final = df_final.loc[\n",
    "#     ~(df_final['user'].isin(user_suspiciousness[user_suspiciousness>.9].index)) | \n",
    "#     df_final['sentiment'].isna()\n",
    "# ]\n",
    "\n",
    "# # ---- Preprocessing ---- #\n",
    "# df_final = df_final\\\n",
    "#     .pipe(text_noAmpEnt, field_IN='text', field_OUT='text')\\\n",
    "#     .pipe(text_noQuotEnt, field_IN='text', field_OUT='text')\\\n",
    "#     .pipe(text_noAt, field_IN='text', field_OUT='text')\\\n",
    "#     .pipe(text_noHttp, field_IN='text', field_OUT='text')\\\n",
    "#     .pipe(text_noDuplLetters, field_IN='text', field_OUT='text')\\\n",
    "#     .pipe(text_noPunctuation, field_IN='text', field_OUT='text')\\\n",
    "#     .pipe(text_stem, field_IN='text', field_OUT='text', stemmer=SnowballStemmer)\\\n",
    "#     .pipe(text_neg, field_IN='text', field_OUT='text')\n",
    "#     # .pipe(text_lemm, field_IN='text', field_OUT='text', lemmatizer=WordNetLemmatizer)\n",
    "#     # .pipe(text_stem, field_IN='text', field_OUT='text', stemmer=LancasterStemmer)\n",
    "\n",
    "# df_final['text_final'] = df_final['text']\n",
    "\n",
    "# mask_train_test = df_final['sentiment'].notna()\n",
    "\n",
    "# X_train_valid = df_final.loc[mask_train_test,:]['text_final'].values\n",
    "# y_train_valid = df_final.loc[mask_train_test,:]['sentiment'].values\n",
    "# X_test = df_final.loc[~mask_train_test,:]['text_final'].values\n",
    "\n",
    "# X_train, X_valid, y_train, y_valid = train_test_split(\n",
    "#     X_train_valid, \n",
    "#     y_train_valid, \n",
    "#     shuffle=True, \n",
    "#     train_size=0.9, \n",
    "#     random_state=42\n",
    "# )\n",
    "\n",
    "# vectorizer = 'tfidf'\n",
    "# model = 'linearSVC'\n",
    "\n",
    "# pipe = Pipeline([\n",
    "#     (vectorizer, TfidfVectorizer()),\n",
    "#     (model, LinearSVC())\n",
    "# ])\n",
    "\n",
    "# def params_for_GridSearchCV(params_IN,step_name):\n",
    "#     return {f'{step_name}__{key}':value for (key,value) in params_IN.items()}\n",
    "\n",
    "# params_all = params_for_GridSearchCV(TfidfVectorizer_params,vectorizer)\n",
    "# params_all.update(params_for_GridSearchCV(linearSVC_params,model))\n",
    "# print(params_all)\n",
    "\n",
    "# gscv = GridSearchCV(pipe, params_all, cv = 3, verbose = 4, scoring='f1_macro', n_jobs=4)\n",
    "\n",
    "# gscv.fit(X_train, y_train)\n",
    "\n",
    "# f1 = f1_score(y_valid, gscv.predict(X_valid),average='macro')\n",
    "# report = classification_report(y_valid, gscv.predict(X_valid))\n",
    "# confusion = confusion_matrix(y_valid, gscv.predict(X_valid))\n",
    "\n",
    "# print(f1)\n",
    "# print(report)\n",
    "# print(confusion)\n",
    "\n",
    "# from pathlib import Path\n",
    "# from datetime import datetime\n",
    "\n",
    "# results_name = Path.cwd()/'gscv_results'/'linearSVC_final_results2.csv'\n",
    "\n",
    "# pd.DataFrame(gscv.cv_results_).to_csv(results_name)"
   ]
  },
  {
   "cell_type": "code",
   "execution_count": 42,
   "metadata": {},
   "outputs": [],
   "source": [
    "# results = pd.read_csv('gscv_results\\\\linearSVC_final_results2.csv')\n",
    "# print(results.loc[results['rank_test_score']==1]['params'].iloc[0])\n",
    "# print(results.loc[results['rank_test_score']==1]['params'].iloc[1])"
   ]
  },
  {
   "cell_type": "code",
   "execution_count": 21,
   "metadata": {},
   "outputs": [
    {
     "data": {
      "text/plain": [
       "\"{'linearSVC__C': 1, 'linearSVC__class_weight': 'balanced', 'linearSVC__dual': False, 'linearSVC__fit_intercept': False, 'linearSVC__max_iter': 100, 'linearSVC__penalty': 'l2', 'linearSVC__random_state': 42, 'linearSVC__tol': 0.001, 'tfidf__binary': True, 'tfidf__max_df': 1.0, 'tfidf__max_features': None, 'tfidf__min_df': 1, 'tfidf__ngram_range': (1, 3), 'tfidf__norm': 'l2', 'tfidf__smooth_idf': False, 'tfidf__stop_words': None, 'tfidf__sublinear_tf': False, 'tfidf__use_idf': True}\""
      ]
     },
     "execution_count": 21,
     "metadata": {},
     "output_type": "execute_result"
    }
   ],
   "source": [
    "from pathlib import Path\n",
    "path_IN = Path.cwd()\n",
    "results = pd.read_csv(path_IN/'gscv_results'/'linearSVC_final_results2.csv')\n",
    "\n",
    "results[results['rank_test_score'] == 1]['params'].iloc[0]"
   ]
  },
  {
   "cell_type": "markdown",
   "metadata": {},
   "source": [
    "# Best models test"
   ]
  },
  {
   "cell_type": "code",
   "execution_count": 43,
   "metadata": {},
   "outputs": [],
   "source": [
    "# from sklearn.model_selection import GridSearchCV\n",
    "# from sklearn.pipeline import Pipeline\n",
    "# from sklearn.feature_extraction.text import TfidfVectorizer\n",
    "# from sklearn.svm import LinearSVC\n",
    "# from sklearn.model_selection import train_test_split\n",
    "# from sklearn.metrics import f1_score, classification_report, confusion_matrix\n",
    "\n",
    "# df_final = df\n",
    "# # df_final['text_final'] = df_final['text_noPunct'].apply(lambda x : ' '.join(x))\n",
    "# df_final['text_final'] = df_final['text_neg'].apply(lambda x : ' '.join(x))\n",
    "\n",
    "# mask_train_test = df_final['sentiment'].notna()\n",
    "\n",
    "# X_train_valid = df_final.loc[mask_train_test,:]['text_final'].values\n",
    "# y_train_valid = df_final.loc[mask_train_test,:]['sentiment'].values\n",
    "# X_test = df_final.loc[~mask_train_test,:]['text_final'].values\n",
    "\n",
    "# X_train, X_valid, y_train, y_valid = train_test_split(\n",
    "#     X_train_valid, \n",
    "#     y_train_valid, \n",
    "#     shuffle=True, \n",
    "#     # stratify=y_train_valid, \n",
    "#     train_size=0.9, \n",
    "#     random_state=42\n",
    "# )\n",
    "\n",
    "# model = LinearSVC(\n",
    "#     C = 1, \n",
    "#     class_weight = 'balanced', \n",
    "#     dual = False, \n",
    "#     fit_intercept = False, \n",
    "#     max_iter = 100, \n",
    "#     penalty = 'l2', \n",
    "#     random_state = 42, \n",
    "#     tol = 0.001\n",
    "# )\n",
    "\n",
    "# vectorizer = TfidfVectorizer(\n",
    "#     binary = True, \n",
    "#     max_df = 1.0, \n",
    "#     max_features = None, \n",
    "#     min_df = 1, \n",
    "#     ngram_range = (1,3), \n",
    "#     norm = 'l2', \n",
    "#     smooth_idf = False, \n",
    "#     stop_words = None, \n",
    "#     sublinear_tf = False, \n",
    "#     use_idf = True\n",
    "# )\n",
    "\n",
    "# pipe = Pipeline([\n",
    "#     ('tfidf', vectorizer),\n",
    "#     ('linearSVC', model)\n",
    "# ])\n",
    "\n",
    "# pipe.fit(X_train, y_train)\n",
    "\n",
    "# f1 = f1_score(y_valid, pipe.predict(X_valid),average='macro')\n",
    "# report = classification_report(y_valid, pipe.predict(X_valid))\n",
    "# confusion = confusion_matrix(y_valid, pipe.predict(X_valid))\n",
    "\n",
    "# print(f1)\n",
    "# print(report)\n",
    "# print(confusion)"
   ]
  },
  {
   "cell_type": "markdown",
   "metadata": {},
   "source": [
    "# MODIFIED: norm and ngram_range"
   ]
  },
  {
   "cell_type": "code",
   "execution_count": 66,
   "metadata": {},
   "outputs": [
    {
     "name": "stdout",
     "output_type": "stream",
     "text": [
      "0.8038680794656297\n",
      "              precision    recall  f1-score   support\n",
      "\n",
      "         0.0       0.78      0.78      0.78      9559\n",
      "         1.0       0.83      0.83      0.83     12727\n",
      "\n",
      "    accuracy                           0.81     22286\n",
      "   macro avg       0.80      0.80      0.80     22286\n",
      "weighted avg       0.81      0.81      0.81     22286\n",
      "\n",
      "[[ 7412  2147]\n",
      " [ 2135 10592]]\n"
     ]
    }
   ],
   "source": [
    "from sklearn.model_selection import GridSearchCV\n",
    "from sklearn.pipeline import Pipeline\n",
    "from sklearn.feature_extraction.text import TfidfVectorizer, CountVectorizer\n",
    "from sklearn.svm import LinearSVC\n",
    "from sklearn.model_selection import train_test_split\n",
    "from sklearn.metrics import f1_score, classification_report, confusion_matrix\n",
    "from nltk.stem import PorterStemmer, LancasterStemmer, SnowballStemmer, WordNetLemmatizer\n",
    "\n",
    "# text_noAmpEnt\n",
    "# text_noQuotEnt\n",
    "# text_noAt\n",
    "# text_noAmp\n",
    "# text_noHttp\n",
    "# text_noDuplLetters\n",
    "# text_noPunctuation\n",
    "# text_stem\n",
    "# text_lemm\n",
    "# text_neg\n",
    "\n",
    "df_final = df.copy(deep=True)\n",
    "\n",
    "# ---- REMOVAL OF RECORDS WITH DUPLICATE IDS ---- #\n",
    "duplicated_ids = df_dev['ids'].value_counts()\n",
    "duplicated_ids = duplicated_ids[duplicated_ids > 1] \n",
    "df_final = df_final.loc[\n",
    "    ~(df_final['ids'].isin(list(duplicated_ids.index))) | \n",
    "    df_final['sentiment'].isna()\n",
    "]\n",
    "\n",
    "# ---- REMOVAL OF BOTS ---- #\n",
    "# user_similarity = pd.Series(pd.read_csv('internal_similarity_users.csv').set_index('user')['similarity'])\n",
    "df_final = df_final.loc[\n",
    "    ~(df_final['user'].isin(user_suspiciousness[user_suspiciousness>.9].index)) | \n",
    "    df_final['sentiment'].isna()\n",
    "]\n",
    "\n",
    "# ---- Preprocessing ---- #\n",
    "df_final = df_final\\\n",
    "    .pipe(text_noAmpEnt, field_IN='text', field_OUT='text')\\\n",
    "    .pipe(text_noQuotEnt, field_IN='text', field_OUT='text')\\\n",
    "    .pipe(text_noAt, field_IN='text', field_OUT='text')\\\n",
    "    .pipe(text_noHttp, field_IN='text', field_OUT='text')\\\n",
    "    .pipe(text_noDuplLetters, field_IN='text', field_OUT='text')\\\n",
    "    .pipe(text_noPunctuation, field_IN='text', field_OUT='text')\\\n",
    "    .pipe(text_stem, field_IN='text', field_OUT='text', stemmer=SnowballStemmer)\\\n",
    "    .pipe(text_neg, field_IN='text', field_OUT='text')\n",
    "    # .pipe(text_lemm, field_IN='text', field_OUT='text', lemmatizer=WordNetLemmatizer)\n",
    "    # .pipe(text_stem, field_IN='text', field_OUT='text', stemmer=LancasterStemmer)\n",
    "\n",
    "df_final['text_final'] = df_final['text']\n",
    "\n",
    "mask_train_test = df_final['sentiment'].notna()\n",
    "\n",
    "X_train_valid = df_final.loc[mask_train_test,:]['text_final'].values\n",
    "y_train_valid = df_final.loc[mask_train_test,:]['sentiment'].values\n",
    "X_test = df_final.loc[~mask_train_test,:]['text_final'].values\n",
    "\n",
    "X_train, X_valid, y_train, y_valid = train_test_split(\n",
    "    X_train_valid, \n",
    "    y_train_valid, \n",
    "    shuffle=True, \n",
    "    # stratify=y_train_valid, \n",
    "    train_size=0.9, \n",
    "    random_state=42\n",
    ")\n",
    "\n",
    "model = LinearSVC(\n",
    "    C = 1, \n",
    "    class_weight = 'balanced', \n",
    "    dual = False, \n",
    "    fit_intercept = False, \n",
    "    max_iter = 100, \n",
    "    penalty = 'l2', \n",
    "    random_state = 42, \n",
    "    tol = 0.001\n",
    ")\n",
    "\n",
    "vectorizer = TfidfVectorizer(\n",
    "    binary = True, \n",
    "    max_df = 1.0, \n",
    "    max_features = None, \n",
    "    min_df = 1, \n",
    "    ngram_range = (1,3), \n",
    "    norm = 'l2', \n",
    "    smooth_idf = False, \n",
    "    stop_words = None, \n",
    "    sublinear_tf = False, \n",
    "    use_idf = True\n",
    ")\n",
    "\n",
    "ml_pipe = Pipeline([\n",
    "    ('tfidf', vectorizer),\n",
    "    ('linearSVC', model)\n",
    "])\n",
    "\n",
    "ml_pipe.fit(X_train, y_train)\n",
    "\n",
    "f1 = f1_score(y_valid, ml_pipe.predict(X_valid),average='macro')\n",
    "report = classification_report(y_valid, ml_pipe.predict(X_valid))\n",
    "confusion = confusion_matrix(y_valid, ml_pipe.predict(X_valid))\n",
    "\n",
    "print(f1)\n",
    "print(report)\n",
    "print(confusion)"
   ]
  },
  {
   "cell_type": "code",
   "execution_count": 45,
   "metadata": {},
   "outputs": [
    {
     "data": {
      "image/png": "[encoded data removed]",
      "text/plain": [
       "<Figure size 432x288 with 2 Axes>"
      ]
     },
     "metadata": {
      "needs_background": "light"
     },
     "output_type": "display_data"
    }
   ],
   "source": [
    "from sklearn.metrics import confusion_matrix\n",
    "from sklearn.metrics import ConfusionMatrixDisplay\n",
    "\n",
    "y_pred = ml_pipe.predict(X_valid)\n",
    "cm = confusion_matrix(y_valid, y_pred)\n",
    "\n",
    "cm_display = ConfusionMatrixDisplay(cm).plot()"
   ]
  },
  {
   "cell_type": "code",
   "execution_count": 47,
   "metadata": {},
   "outputs": [
    {
     "data": {
      "image/png": "[encoded data removed]",
      "text/plain": [
       "<Figure size 432x288 with 1 Axes>"
      ]
     },
     "metadata": {
      "needs_background": "light"
     },
     "output_type": "display_data"
    }
   ],
   "source": [
    "from sklearn.metrics import roc_curve\n",
    "from sklearn.metrics import RocCurveDisplay\n",
    "\n",
    "y_score = ml_pipe.decision_function(X_valid)\n",
    "\n",
    "fpr, tpr, _ = roc_curve(y_valid, y_score)\n",
    "roc_display = RocCurveDisplay(fpr=fpr, tpr=tpr).plot()"
   ]
  },
  {
   "cell_type": "code",
   "execution_count": 65,
   "metadata": {},
   "outputs": [
    {
     "data": {
      "image/png": "[encoded data removed]",
      "text/plain": [
       "<Figure size 432x288 with 2 Axes>"
      ]
     },
     "metadata": {},
     "output_type": "display_data"
    }
   ],
   "source": [
    "import seaborn as sns\n",
    "import matplotlib.pyplot as plt\n",
    "sns.set_theme()\n",
    "sns.set_style('whitegrid')\n",
    "sns.set_palette('dark')\n",
    "\n",
    "sns.heatmap(confusion/np.sum(confusion), annot=True, fmt='.2%', cmap='Blues')\n",
    "plt.savefig(Path.cwd()/'Report'/'DSL-report'/'images'/'conf_matrix_SVC.png', dpi = 200)"
   ]
  },
  {
   "cell_type": "markdown",
   "metadata": {},
   "source": [
    "Manually removing users: 0.8019786529108555  \n",
    "Without manually removing users: 0.8007152526552623"
   ]
  },
  {
   "cell_type": "markdown",
   "metadata": {},
   "source": [
    "removing duplicate rows : 0.8047867104222173\n",
    "removing duplicate rows + removal of users with highest similarity : 0.8047867104222173"
   ]
  },
  {
   "cell_type": "markdown",
   "metadata": {},
   "source": [
    "None : 0.7973008380157585  \n",
    "text_noAmpEnt : 0.806213112745712  \n",
    "text_noQuotEnt : 0.806582931090972  \n",
    "text_noAt : 0.7998564194923328 -- saltato  \n",
    "text_noAmp : 0.7994236544375262 -- saltato  \n",
    "text_noHttp : 0.7997304233939981 -- saltato  \n",
    "text_noDuplLetters : 0.8017853157058441 -- saltato  \n",
    "text_noPunctuation : 0.8020861827824957 --saltato  \n",
    "text_stem :   \n",
    "    Porter: 0.8014799266049696  \n",
    "    Lancaster : 0.7974966469180449  \n",
    "text_lemm : 0.797157501260997  \n",
    "text_neg : 0.7973008380157585  \n",
    "\n",
    "[  \n",
    "    text_noAmpEnt  \n",
    "    text_noQuotEnt  \n",
    "] : 0.806582931090972  \n",
    "  \n",
    "[  \n",
    "    text_noAmpEnt  \n",
    "    text_noQuotEnt  \n",
    "    text_noAt  \n",
    "    text_noHttp  \n",
    "    text_noPunctuation  \n",
    "    text_lemm  \n",
    "    text_neg  \n",
    "] : 0.7982539044206275  \n",
    "  \n",
    "[  \n",
    "    text_noAmpEnt  \n",
    "    text_noQuotEnt  \n",
    "    text_noAt  \n",
    "    text_noHttp  \n",
    "    text_noPunctuation  \n",
    "    text_stem(Porter)  \n",
    "    text_neg  \n",
    "] : 0.8000375978408897  \n",
    "  \n",
    "[  \n",
    "    text_noAmpEnt  \n",
    "    text_noQuotEnt  \n",
    "    text_noAt  \n",
    "    text_noHttp  \n",
    "    text_noPunctuation  \n",
    "    text_stem(Lancaster)  \n",
    "    text_neg  \n",
    "] : 0.7961716118953209  \n",
    "  \n",
    "[  \n",
    "    text_noAmpEnt  \n",
    "    text_noQuotEnt  \n",
    "    text_noAt  \n",
    "    text_noHttp  \n",
    "    text_noPunctuation  \n",
    "    text_stem(Snowball)  \n",
    "    text_neg  \n",
    "] : 0.8006420407066549  \n",
    "\n",
    "[  \n",
    "    text_noAmpEnt  \n",
    "    text_noQuotEnt  \n",
    "    text_noAt  \n",
    "    text_noHttp  \n",
    "    text_noPunctuation    \n",
    "    text_neg  \n",
    "] : 0.8006420407066549  \n",
    "\n",
    "[\n",
    "    text_noAmpEnt  \n",
    "    text_noQuotEnt  \n",
    "    text_noAt  \n",
    "    text_noHttp  \n",
    "    text_noDuplLetters  \n",
    "    text_noPunctuation  \n",
    "    text_stem  \n",
    "    text_neg  \n",
    "] : 0.8016248133460189"
   ]
  },
  {
   "cell_type": "markdown",
   "metadata": {},
   "source": [
    "Best configuration"
   ]
  },
  {
   "cell_type": "code",
   "execution_count": 205,
   "metadata": {},
   "outputs": [],
   "source": [
    "model = LinearSVC(\n",
    "    C = 1, \n",
    "    class_weight = 'balanced', \n",
    "    dual = False, \n",
    "    fit_intercept = False, \n",
    "    max_iter = 50, \n",
    "    penalty = 'l2', \n",
    "    random_state = 42, \n",
    "    tol = 0.001\n",
    ")\n",
    "\n",
    "vectorizer = TfidfVectorizer(\n",
    "    binary = True, \n",
    "    max_df = 1.0, \n",
    "    max_features = None, \n",
    "    min_df = 1, \n",
    "    ngram_range = (1,3), \n",
    "    norm = 'l2', \n",
    "    smooth_idf = False, \n",
    "    stop_words = None, \n",
    "    sublinear_tf = False, \n",
    "    use_idf = True\n",
    ")"
   ]
  },
  {
   "cell_type": "markdown",
   "metadata": {},
   "source": [
    "old best"
   ]
  },
  {
   "cell_type": "code",
   "execution_count": null,
   "metadata": {},
   "outputs": [],
   "source": [
    "model = LinearSVC(\n",
    "    C = 1, \n",
    "    class_weight = 'balanced', \n",
    "    dual = False, \n",
    "    fit_intercept = False, \n",
    "    max_iter = 100, \n",
    "    penalty = 'l2', \n",
    "    random_state = 42, \n",
    "    tol = 0.001\n",
    ")\n",
    "\n",
    "vectorizer = TfidfVectorizer(\n",
    "    binary = True, \n",
    "    max_df = 1.0, \n",
    "    max_features = None, \n",
    "    min_df = 1, \n",
    "    ngram_range = (1,3), \n",
    "    norm = 'l2', \n",
    "    smooth_idf = False, \n",
    "    stop_words = None, \n",
    "    sublinear_tf = False, \n",
    "    use_idf = True\n",
    ")"
   ]
  },
  {
   "cell_type": "markdown",
   "metadata": {},
   "source": [
    "+ NO stemming: 0.7953890537516292\n",
    "+ Snowball: 0.7994796670641988\n",
    "+ Lancaster: 0.7934227929849921\n",
    "+ Porter: 0.7982780155296589\n",
    "+ Wordnet: 0.7942085265529459"
   ]
  },
  {
   "cell_type": "markdown",
   "metadata": {},
   "source": [
    "Results generation"
   ]
  },
  {
   "cell_type": "code",
   "execution_count": 68,
   "metadata": {},
   "outputs": [],
   "source": [
    "ml_pipe.fit(X_train_valid, y_train_valid)\n",
    "y_pred = ml_pipe.predict(X_test)\n",
    "pd.DataFrame(y_pred.astype(int),columns=['Predicted']).to_csv(\"output_SVC_final.csv\",index_label=\"Id\", header=[\"Predicted\"])"
   ]
  },
  {
   "cell_type": "code",
   "execution_count": 69,
   "metadata": {},
   "outputs": [
    {
     "data": {
      "text/plain": [
       "(74999,)"
      ]
     },
     "execution_count": 69,
     "metadata": {},
     "output_type": "execute_result"
    }
   ],
   "source": [
    "y_pred.shape"
   ]
  }
 ],
 "metadata": {
  "interpreter": {
   "hash": "bd8ee3559d665fee903f84f74f9742602cb00cb47768a52cae0fe6e115d1a823"
  },
  "kernelspec": {
   "display_name": "Python 3.8.12 64-bit ('data_science_lab_2': conda)",
   "language": "python",
   "name": "python3"
  },
  "language_info": {
   "codemirror_mode": {
    "name": "ipython",
    "version": 3
   },
   "file_extension": ".py",
   "mimetype": "text/x-python",
   "name": "python",
   "nbconvert_exporter": "python",
   "pygments_lexer": "ipython3",
   "version": "3.8.12"
  },
  "orig_nbformat": 4
 },
 "nbformat": 4,
 "nbformat_minor": 2
}
