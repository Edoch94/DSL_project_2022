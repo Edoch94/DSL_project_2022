{
 "cells": [
  {
   "cell_type": "markdown",
   "metadata": {},
   "source": [
    "## Data unzip"
   ]
  },
  {
   "cell_type": "code",
   "execution_count": 1,
   "metadata": {},
   "outputs": [],
   "source": [
    "from zipfile import ZipFile\n",
    "from pathlib import Path"
   ]
  },
  {
   "cell_type": "code",
   "execution_count": 2,
   "metadata": {},
   "outputs": [],
   "source": [
    "with ZipFile('project_dataset.zip') as zipped_file:\n",
    "    zipped_file.extractall(Path.cwd()/'data')"
   ]
  },
  {
   "cell_type": "markdown",
   "metadata": {},
   "source": [
    "## Data import"
   ]
  },
  {
   "cell_type": "code",
   "execution_count": 3,
   "metadata": {},
   "outputs": [],
   "source": [
    "import pandas as pd\n",
    "import numpy as np\n",
    "\n",
    "import matplotlib.pyplot as plt\n",
    "import seaborn as sns"
   ]
  },
  {
   "cell_type": "code",
   "execution_count": 4,
   "metadata": {},
   "outputs": [],
   "source": [
    "df_dev = pd.read_csv(Path.cwd()/'data'/'DSL2122_january_dataset'/'development.csv')\n",
    "df_eval = pd.read_csv(Path.cwd()/'data'/'DSL2122_january_dataset'/'evaluation.csv')\n",
    "df = df_dev.append(df_eval)"
   ]
  },
  {
   "cell_type": "markdown",
   "metadata": {},
   "source": [
    "## Dataset analysis"
   ]
  },
  {
   "cell_type": "markdown",
   "metadata": {},
   "source": [
    "### General analysis"
   ]
  },
  {
   "cell_type": "code",
   "execution_count": 5,
   "metadata": {},
   "outputs": [
    {
     "data": {
      "text/html": [
       "<div>\n",
       "<style scoped>\n",
       "    .dataframe tbody tr th:only-of-type {\n",
       "        vertical-align: middle;\n",
       "    }\n",
       "\n",
       "    .dataframe tbody tr th {\n",
       "        vertical-align: top;\n",
       "    }\n",
       "\n",
       "    .dataframe thead th {\n",
       "        text-align: right;\n",
       "    }\n",
       "</style>\n",
       "<table border=\"1\" class=\"dataframe\">\n",
       "  <thead>\n",
       "    <tr style=\"text-align: right;\">\n",
       "      <th></th>\n",
       "      <th>sentiment</th>\n",
       "      <th>ids</th>\n",
       "      <th>date</th>\n",
       "      <th>flag</th>\n",
       "      <th>user</th>\n",
       "      <th>text</th>\n",
       "    </tr>\n",
       "  </thead>\n",
       "  <tbody>\n",
       "    <tr>\n",
       "      <th>0</th>\n",
       "      <td>1</td>\n",
       "      <td>1833972543</td>\n",
       "      <td>Mon May 18 01:08:27 PDT 2009</td>\n",
       "      <td>NO_QUERY</td>\n",
       "      <td>Killandra</td>\n",
       "      <td>@MissBianca76 Yes, talking helps a lot.. going...</td>\n",
       "    </tr>\n",
       "    <tr>\n",
       "      <th>1</th>\n",
       "      <td>1</td>\n",
       "      <td>1980318193</td>\n",
       "      <td>Sun May 31 06:23:17 PDT 2009</td>\n",
       "      <td>NO_QUERY</td>\n",
       "      <td>IMlisacowan</td>\n",
       "      <td>SUNSHINE. livingg itttt. imma lie on the grass...</td>\n",
       "    </tr>\n",
       "    <tr>\n",
       "      <th>2</th>\n",
       "      <td>1</td>\n",
       "      <td>1994409198</td>\n",
       "      <td>Mon Jun 01 11:52:54 PDT 2009</td>\n",
       "      <td>NO_QUERY</td>\n",
       "      <td>yaseminx3</td>\n",
       "      <td>@PleaseBeMine Something for your iphone</td>\n",
       "    </tr>\n",
       "    <tr>\n",
       "      <th>3</th>\n",
       "      <td>0</td>\n",
       "      <td>1824749377</td>\n",
       "      <td>Sun May 17 02:45:34 PDT 2009</td>\n",
       "      <td>NO_QUERY</td>\n",
       "      <td>no_surprises</td>\n",
       "      <td>@GabrielSaporta couldn't get in to the after p...</td>\n",
       "    </tr>\n",
       "    <tr>\n",
       "      <th>4</th>\n",
       "      <td>0</td>\n",
       "      <td>2001199113</td>\n",
       "      <td>Tue Jun 02 00:08:07 PDT 2009</td>\n",
       "      <td>NO_QUERY</td>\n",
       "      <td>Rhi_ShortStack</td>\n",
       "      <td>@bradiewebbstack awww is andy being mean again...</td>\n",
       "    </tr>\n",
       "  </tbody>\n",
       "</table>\n",
       "</div>"
      ],
      "text/plain": [
       "   sentiment         ids                          date      flag  \\\n",
       "0          1  1833972543  Mon May 18 01:08:27 PDT 2009  NO_QUERY   \n",
       "1          1  1980318193  Sun May 31 06:23:17 PDT 2009  NO_QUERY   \n",
       "2          1  1994409198  Mon Jun 01 11:52:54 PDT 2009  NO_QUERY   \n",
       "3          0  1824749377  Sun May 17 02:45:34 PDT 2009  NO_QUERY   \n",
       "4          0  2001199113  Tue Jun 02 00:08:07 PDT 2009  NO_QUERY   \n",
       "\n",
       "             user                                               text  \n",
       "0       Killandra  @MissBianca76 Yes, talking helps a lot.. going...  \n",
       "1     IMlisacowan  SUNSHINE. livingg itttt. imma lie on the grass...  \n",
       "2       yaseminx3           @PleaseBeMine Something for your iphone   \n",
       "3    no_surprises  @GabrielSaporta couldn't get in to the after p...  \n",
       "4  Rhi_ShortStack  @bradiewebbstack awww is andy being mean again...  "
      ]
     },
     "execution_count": 5,
     "metadata": {},
     "output_type": "execute_result"
    }
   ],
   "source": [
    "df_dev.head()"
   ]
  },
  {
   "cell_type": "code",
   "execution_count": 6,
   "metadata": {},
   "outputs": [
    {
     "name": "stdout",
     "output_type": "stream",
     "text": [
      "<class 'pandas.core.frame.DataFrame'>\n",
      "RangeIndex: 224994 entries, 0 to 224993\n",
      "Data columns (total 6 columns):\n",
      " #   Column     Non-Null Count   Dtype \n",
      "---  ------     --------------   ----- \n",
      " 0   sentiment  224994 non-null  int64 \n",
      " 1   ids        224994 non-null  int64 \n",
      " 2   date       224994 non-null  object\n",
      " 3   flag       224994 non-null  object\n",
      " 4   user       224994 non-null  object\n",
      " 5   text       224994 non-null  object\n",
      "dtypes: int64(2), object(4)\n",
      "memory usage: 10.3+ MB\n"
     ]
    }
   ],
   "source": [
    "df_dev.info()"
   ]
  },
  {
   "cell_type": "code",
   "execution_count": 7,
   "metadata": {},
   "outputs": [
    {
     "data": {
      "text/plain": [
       "sentiment    True\n",
       "ids          True\n",
       "date         True\n",
       "flag         True\n",
       "user         True\n",
       "text         True\n",
       "dtype: bool"
      ]
     },
     "execution_count": 7,
     "metadata": {},
     "output_type": "execute_result"
    }
   ],
   "source": [
    "df_dev.notna().any()"
   ]
  },
  {
   "cell_type": "markdown",
   "metadata": {},
   "source": [
    "No column has empty cells"
   ]
  },
  {
   "cell_type": "code",
   "execution_count": 8,
   "metadata": {},
   "outputs": [
    {
     "data": {
      "text/plain": [
       "1    130157\n",
       "0     94837\n",
       "Name: sentiment, dtype: int64"
      ]
     },
     "execution_count": 8,
     "metadata": {},
     "output_type": "execute_result"
    }
   ],
   "source": [
    "df_dev['sentiment'].value_counts()"
   ]
  },
  {
   "cell_type": "markdown",
   "metadata": {},
   "source": [
    "There are more comments classified as positive (130157) than as negative (94837)"
   ]
  },
  {
   "cell_type": "markdown",
   "metadata": {},
   "source": [
    "### 'Date' analysis"
   ]
  },
  {
   "cell_type": "code",
   "execution_count": 9,
   "metadata": {},
   "outputs": [
    {
     "data": {
      "text/plain": [
       "0    Mon May 18 01:08:27 PDT 2009\n",
       "1    Sun May 31 06:23:17 PDT 2009\n",
       "2    Mon Jun 01 11:52:54 PDT 2009\n",
       "3    Sun May 17 02:45:34 PDT 2009\n",
       "4    Tue Jun 02 00:08:07 PDT 2009\n",
       "Name: date, dtype: object"
      ]
     },
     "execution_count": 9,
     "metadata": {},
     "output_type": "execute_result"
    }
   ],
   "source": [
    "df_dev['date'].head()"
   ]
  },
  {
   "cell_type": "code",
   "execution_count": 10,
   "metadata": {},
   "outputs": [
    {
     "data": {
      "text/plain": [
       "PDT    224994\n",
       "Name: date, dtype: int64"
      ]
     },
     "execution_count": 10,
     "metadata": {},
     "output_type": "execute_result"
    }
   ],
   "source": [
    "df_dev['date'].astype('string').str.split(' ').apply(lambda x : x[-2]).value_counts()"
   ]
  },
  {
   "cell_type": "markdown",
   "metadata": {},
   "source": [
    "The only timezone in the dataset is PDT"
   ]
  },
  {
   "cell_type": "code",
   "execution_count": 11,
   "metadata": {},
   "outputs": [
    {
     "data": {
      "text/plain": [
       "2009    224994\n",
       "Name: date, dtype: int64"
      ]
     },
     "execution_count": 11,
     "metadata": {},
     "output_type": "execute_result"
    }
   ],
   "source": [
    "df_dev['date'].astype('string').str.split(' ').apply(lambda x : x[-1]).value_counts()"
   ]
  },
  {
   "cell_type": "markdown",
   "metadata": {},
   "source": [
    "All tweets are from year 2009"
   ]
  },
  {
   "cell_type": "code",
   "execution_count": 12,
   "metadata": {},
   "outputs": [],
   "source": [
    "df_dev['date_mod'] = df_dev['date'].\\\n",
    "    astype('string')\\\n",
    "    .str.split(' ')\\\n",
    "    .apply(lambda x : ' '.join([x[i] for i in [1,2,3,5]]))\\\n",
    "    .pipe(pd.to_datetime)\n",
    "\n",
    "df_eval['date_mod'] = df_dev['date'].\\\n",
    "    astype('string')\\\n",
    "    .str.split(' ')\\\n",
    "    .apply(lambda x : ' '.join([x[i] for i in [1,2,3,5]]))\\\n",
    "    .pipe(pd.to_datetime)\n",
    "\n",
    "# df_dev[['date','date_mod']]"
   ]
  },
  {
   "cell_type": "code",
   "execution_count": 13,
   "metadata": {},
   "outputs": [
    {
     "data": {
      "text/plain": [
       "0        2009-05-18 01:08:27\n",
       "1        2009-05-31 06:23:17\n",
       "2        2009-06-01 11:52:54\n",
       "3        2009-05-17 02:45:34\n",
       "4        2009-06-02 00:08:07\n",
       "                 ...        \n",
       "224989   2009-06-20 20:36:48\n",
       "224990   2009-06-01 01:25:45\n",
       "224991   2009-06-01 06:38:10\n",
       "224992   2009-06-19 08:51:56\n",
       "224993   2009-06-03 06:00:29\n",
       "Name: date_mod, Length: 224994, dtype: datetime64[ns]"
      ]
     },
     "execution_count": 13,
     "metadata": {},
     "output_type": "execute_result"
    }
   ],
   "source": [
    "df_dev['date_mod']"
   ]
  },
  {
   "cell_type": "code",
   "execution_count": 14,
   "metadata": {},
   "outputs": [
    {
     "data": {
      "text/plain": [
       "(Timestamp('2009-04-06 22:19:57'), Timestamp('2009-06-25 10:28:28'))"
      ]
     },
     "execution_count": 14,
     "metadata": {},
     "output_type": "execute_result"
    }
   ],
   "source": [
    "df_dev['date_mod'].min(), df_dev['date_mod'].max()"
   ]
  },
  {
   "cell_type": "code",
   "execution_count": 15,
   "metadata": {},
   "outputs": [
    {
     "data": {
      "text/plain": [
       "0       2009-05-18 01:08:27\n",
       "1       2009-05-31 06:23:17\n",
       "2       2009-06-01 11:52:54\n",
       "3       2009-05-17 02:45:34\n",
       "4       2009-06-02 00:08:07\n",
       "                ...        \n",
       "74994   2009-05-10 05:43:24\n",
       "74995   2009-06-06 01:43:47\n",
       "74996   2009-05-14 00:29:34\n",
       "74997   2009-04-19 05:48:44\n",
       "74998   2009-06-01 04:32:25\n",
       "Name: date_mod, Length: 74999, dtype: datetime64[ns]"
      ]
     },
     "execution_count": 15,
     "metadata": {},
     "output_type": "execute_result"
    }
   ],
   "source": [
    "df_eval['date_mod']"
   ]
  },
  {
   "cell_type": "code",
   "execution_count": 16,
   "metadata": {},
   "outputs": [
    {
     "data": {
      "text/plain": [
       "(Timestamp('2009-04-06 22:20:03'), Timestamp('2009-06-25 10:28:28'))"
      ]
     },
     "execution_count": 16,
     "metadata": {},
     "output_type": "execute_result"
    }
   ],
   "source": [
    "df_eval['date_mod'].min(), df_eval['date_mod'].max()"
   ]
  },
  {
   "cell_type": "markdown",
   "metadata": {},
   "source": [
    "The tweets were written between 2009-04-06 22:19:57 and 2009-06-25 10:28:28"
   ]
  },
  {
   "cell_type": "code",
   "execution_count": 17,
   "metadata": {},
   "outputs": [],
   "source": [
    "df_dev['date'] = df_dev['date_mod']\n",
    "df_dev.drop('date_mod',axis=1,inplace=True)"
   ]
  },
  {
   "cell_type": "markdown",
   "metadata": {},
   "source": [
    "### 'flag' analysis"
   ]
  },
  {
   "cell_type": "code",
   "execution_count": 18,
   "metadata": {},
   "outputs": [
    {
     "data": {
      "text/plain": [
       "NO_QUERY    224994\n",
       "Name: flag, dtype: int64"
      ]
     },
     "execution_count": 18,
     "metadata": {},
     "output_type": "execute_result"
    }
   ],
   "source": [
    "df_dev['flag'].value_counts()"
   ]
  },
  {
   "cell_type": "code",
   "execution_count": 19,
   "metadata": {},
   "outputs": [
    {
     "data": {
      "text/plain": [
       "NO_QUERY    74999\n",
       "Name: flag, dtype: int64"
      ]
     },
     "execution_count": 19,
     "metadata": {},
     "output_type": "execute_result"
    }
   ],
   "source": [
    "df_eval['flag'].value_counts()"
   ]
  },
  {
   "cell_type": "markdown",
   "metadata": {},
   "source": [
    "The unique value for 'flag' is 'NO_QUERY', so this field can be discarded "
   ]
  },
  {
   "cell_type": "code",
   "execution_count": 20,
   "metadata": {},
   "outputs": [],
   "source": [
    "df_dev.drop('flag',axis=1,inplace=True)"
   ]
  },
  {
   "cell_type": "markdown",
   "metadata": {},
   "source": [
    "### 'user' analysis"
   ]
  },
  {
   "cell_type": "markdown",
   "metadata": {},
   "source": [
    "#### Frequency of positive or negative for user"
   ]
  },
  {
   "cell_type": "code",
   "execution_count": 21,
   "metadata": {},
   "outputs": [
    {
     "data": {
      "text/plain": [
       "10647"
      ]
     },
     "execution_count": 21,
     "metadata": {},
     "output_type": "execute_result"
    }
   ],
   "source": [
    "df_dev['user'].nunique()"
   ]
  },
  {
   "cell_type": "code",
   "execution_count": 22,
   "metadata": {},
   "outputs": [
    {
     "data": {
      "text/plain": [
       "10647"
      ]
     },
     "execution_count": 22,
     "metadata": {},
     "output_type": "execute_result"
    }
   ],
   "source": [
    "df_eval['user'].nunique()"
   ]
  },
  {
   "cell_type": "code",
   "execution_count": 23,
   "metadata": {},
   "outputs": [
    {
     "data": {
      "text/plain": [
       "10647"
      ]
     },
     "execution_count": 23,
     "metadata": {},
     "output_type": "execute_result"
    }
   ],
   "source": [
    "df['user'].nunique()"
   ]
  },
  {
   "cell_type": "code",
   "execution_count": 24,
   "metadata": {},
   "outputs": [
    {
     "data": {
      "text/plain": [
       "lost_dog           549\n",
       "webwoke            345\n",
       "tweetpet           310\n",
       "SallytheShizzle    281\n",
       "VioletsCRUK        279\n",
       "                  ... \n",
       "strangetymes        15\n",
       "bianckikay          15\n",
       "linalrae            15\n",
       "iSpunk              15\n",
       "bdothill            15\n",
       "Name: user, Length: 10647, dtype: int64"
      ]
     },
     "execution_count": 24,
     "metadata": {},
     "output_type": "execute_result"
    }
   ],
   "source": [
    "df['user'].value_counts()"
   ]
  },
  {
   "cell_type": "code",
   "execution_count": 66,
   "metadata": {},
   "outputs": [
    {
     "data": {
      "image/png": "[encoded data removed]",
      "text/plain": [
       "<Figure size 432x288 with 1 Axes>"
      ]
     },
     "metadata": {},
     "output_type": "display_data"
    }
   ],
   "source": [
    "sns.set_theme()\n",
    "sns.set_style('whitegrid')\n",
    "sns.set_palette('dark')\n",
    "average_user_sentiment = df_dev.groupby('user')['sentiment'].mean()\n",
    "g = sns.histplot(data=average_user_sentiment, bins=40)\n",
    "g.set_xlabel('Average tweet sentiment')\n",
    "g.set_ylabel('Number of users')\n",
    "average_user_sentiment\n",
    "plt.savefig(Path.cwd()/'Report'/'DSL-report'/'images'/'average_user_sentiment.png', dpi = 200)"
   ]
  },
  {
   "cell_type": "markdown",
   "metadata": {},
   "source": [
    "There are many users that made almost all tweets classified as positive"
   ]
  },
  {
   "cell_type": "markdown",
   "metadata": {},
   "source": [
    "#### Tweet for 'user'"
   ]
  },
  {
   "cell_type": "code",
   "execution_count": 19,
   "metadata": {},
   "outputs": [
    {
     "data": {
      "text/plain": [
       "lost_dog           412\n",
       "webwoke            259\n",
       "tweetpet           232\n",
       "SallytheShizzle    211\n",
       "VioletsCRUK        209\n",
       "mcraddictal        207\n",
       "tsarnick           186\n",
       "what_bugs_u        184\n",
       "Karen230683        178\n",
       "DarkPiano          177\n",
       "SongoftheOss       170\n",
       "Jayme1988          169\n",
       "keza34             164\n",
       "ramdomthoughts     162\n",
       "shanajaca          160\n",
       "wowlew             159\n",
       "TraceyHewins       158\n",
       "nuttychris         158\n",
       "thisgoeshere       155\n",
       "Spidersamm         154\n",
       "StDAY              151\n",
       "felicityfuller     146\n",
       "Dogbook            144\n",
       "_magic8ball        142\n",
       "Djalfy             136\n",
       "torilovesbradie    136\n",
       "Dutchrudder        136\n",
       "twebbstack         135\n",
       "Quimo              135\n",
       "Broooooke_         134\n",
       "Name: user, dtype: int64"
      ]
     },
     "execution_count": 19,
     "metadata": {},
     "output_type": "execute_result"
    }
   ],
   "source": [
    "df_dev['user'].value_counts().head(30)"
   ]
  },
  {
   "cell_type": "markdown",
   "metadata": {},
   "source": [
    "There are 10647 distinct users"
   ]
  },
  {
   "cell_type": "code",
   "execution_count": 58,
   "metadata": {},
   "outputs": [
    {
     "data": {
      "image/png": "[encoded data removed]",
      "text/plain": [
       "<Figure size 432x288 with 1 Axes>"
      ]
     },
     "metadata": {},
     "output_type": "display_data"
    }
   ],
   "source": [
    "import matplotlib.pyplot as plt\n",
    "import matplotlib.style as style\n",
    "import seaborn as sns\n",
    "sns.set_theme()\n",
    "sns.set_style('whitegrid')\n",
    "sns.set_palette('dark')\n",
    "# style.use('seaborn-whitegrid')\n",
    "# fig, ax = plt.subplots(figsize=(15,5))\n",
    "user_value_counts = pd.DataFrame(df['user'].value_counts()).reset_index()\n",
    "# sns.barplot(data=user_value_counts, x='index', y='user')\n",
    "\n",
    "user_value_counts = df['user'].value_counts()\n",
    "g = sns.histplot(data=user_value_counts, bins=100)\n",
    "g.set_yscale('log')\n",
    "g.set_xlabel('Number of tweets posted')\n",
    "g.set_ylabel('Number of users')\n",
    "user_value_counts\n",
    "plt.savefig(Path.cwd()/'Report'/'DSL-report'/'images'/'user_per_tweet.png', dpi = 200)\n"
   ]
  },
  {
   "cell_type": "markdown",
   "metadata": {},
   "source": [
    "A few users made many more tweets than others"
   ]
  },
  {
   "cell_type": "markdown",
   "metadata": {},
   "source": [
    "#### Main \"twetterers\" analysis"
   ]
  },
  {
   "cell_type": "code",
   "execution_count": 67,
   "metadata": {},
   "outputs": [
    {
     "data": {
      "text/plain": [
       "Killandra         0.073697\n",
       "IMlisacowan       0.053146\n",
       "yaseminx3         0.051634\n",
       "no_surprises      0.041548\n",
       "Rhi_ShortStack    0.039583\n",
       "                    ...   \n",
       "sanasaleem        0.042040\n",
       "skweeds           0.071574\n",
       "samozzy           0.069901\n",
       "hEATHER_nVA       0.067190\n",
       "Rokkster          0.047421\n",
       "Length: 10647, dtype: float64"
      ]
     },
     "execution_count": 67,
     "metadata": {},
     "output_type": "execute_result"
    }
   ],
   "source": [
    "from sklearn.feature_extraction.text import CountVectorizer\n",
    "\n",
    "countvect = CountVectorizer()\n",
    "\n",
    "X_count = countvect.fit_transform(df['text'])\n",
    "\n",
    "from sklearn.metrics.pairwise import cosine_similarity\n",
    "\n",
    "user_similarity = {}\n",
    "for user in df['user'].unique():\n",
    "    X_count_user = X_count[df['user'] == user,:]\n",
    "    X_similarity_user = cosine_similarity(X_count_user)\n",
    "    np.fill_diagonal(X_similarity_user,np.nan)\n",
    "    user_similarity[user] = np.nanmean(X_similarity_user)\n",
    "\n",
    "user_similarity = pd.Series(user_similarity)\n",
    "user_similarity"
   ]
  },
  {
   "cell_type": "code",
   "execution_count": 68,
   "metadata": {},
   "outputs": [],
   "source": [
    "user_similarity.to_csv('internal_similarity_users.csv', )"
   ]
  },
  {
   "cell_type": "code",
   "execution_count": 76,
   "metadata": {},
   "outputs": [
    {
     "data": {
      "image/png": "[encoded data removed]",
      "text/plain": [
       "<Figure size 432x288 with 1 Axes>"
      ]
     },
     "metadata": {},
     "output_type": "display_data"
    }
   ],
   "source": [
    "# user_similarity = pd.read_csv('internal_similarity_users.csv')\n",
    "\n",
    "g = sns.histplot(data=user_similarity, bins=90)\n",
    "g.set_yscale('log')\n",
    "g.set_xlabel('Mean cosine similarity of posted tweets')\n",
    "g.set_ylabel('Number of users')\n",
    "plt.savefig(Path.cwd()/'Report'/'DSL-report'/'images'/'internal_similarity_users.png', dpi = 200)"
   ]
  },
  {
   "cell_type": "code",
   "execution_count": 136,
   "metadata": {},
   "outputs": [
    {
     "data": {
      "text/plain": [
       "BecReedman       0.395609\n",
       "Kyle270          0.388842\n",
       "chlon2005        0.385649\n",
       "isdown           0.379656\n",
       "Twitilicious     0.375937\n",
       "tns_fan          0.373911\n",
       "TimmyGrunt       0.360351\n",
       "iwishiwas        0.358073\n",
       "SusanCosmos      0.352087\n",
       "momspark         0.345954\n",
       "LunaCafe         0.345529\n",
       "khrystar         0.340303\n",
       "TakeAWish        0.338444\n",
       "ThatsTwit        0.337704\n",
       "RandomPenguin    0.337658\n",
       "ChupaCabras69    0.337178\n",
       "marianaguidil    0.334181\n",
       "jovlynlouise     0.333932\n",
       "WHEREonPre       0.331830\n",
       "MariamSales      0.331659\n",
       "dtype: float64"
      ]
     },
     "execution_count": 136,
     "metadata": {},
     "output_type": "execute_result"
    }
   ],
   "source": [
    "user_similarity.sort_values(ascending=False)[100:120]"
   ]
  },
  {
   "cell_type": "code",
   "execution_count": 137,
   "metadata": {},
   "outputs": [
    {
     "data": {
      "text/plain": [
       "689       1 exam done...went ok - headache=MASSIVE OW  h...\n",
       "25527     loves her Liberty print bunny her mummy got he...\n",
       "49168     halfway through reading dissertation through.....\n",
       "56806     one hour late-bad plumbers  http://tinyurl.com...\n",
       "59270     is going home tomorrow  http://tinyurl.com/r5rz9z\n",
       "67903     halfway through reading dissertation through.....\n",
       "76299     carrots and hummous mmmmmmm  http://tinyurl.co...\n",
       "91763      ah pubmed...so useful  http://tinyurl.com/rywqpp\n",
       "93111       is off to meet Vicky  http://tinyurl.com/ccmmsv\n",
       "117555    one hour late-bad plumbers  http://tinyurl.com...\n",
       "194778     ah pubmed...so useful  http://tinyurl.com/rywqpp\n",
       "27191     word count 2500/3000....SO CLOSE  http://tinyu...\n",
       "27248     1 exam done...went ok - headache=MASSIVE OW  h...\n",
       "27751     hates this stupid dissertation and can't do it...\n",
       "61204     one hour late-bad plumbers  http://tinyurl.com...\n",
       "Name: text, dtype: object"
      ]
     },
     "execution_count": 137,
     "metadata": {},
     "output_type": "execute_result"
    }
   ],
   "source": [
    "user = 'MariamSales'\n",
    "df.loc[df['user']==user]['text']"
   ]
  },
  {
   "cell_type": "markdown",
   "metadata": {},
   "source": [
    "1. 'lost_dog'"
   ]
  },
  {
   "cell_type": "code",
   "execution_count": 20,
   "metadata": {},
   "outputs": [
    {
     "data": {
      "text/html": [
       "<div>\n",
       "<style scoped>\n",
       "    .dataframe tbody tr th:only-of-type {\n",
       "        vertical-align: middle;\n",
       "    }\n",
       "\n",
       "    .dataframe tbody tr th {\n",
       "        vertical-align: top;\n",
       "    }\n",
       "\n",
       "    .dataframe thead th {\n",
       "        text-align: right;\n",
       "    }\n",
       "</style>\n",
       "<table border=\"1\" class=\"dataframe\">\n",
       "  <thead>\n",
       "    <tr style=\"text-align: right;\">\n",
       "      <th></th>\n",
       "      <th>sentiment</th>\n",
       "      <th>ids</th>\n",
       "      <th>date</th>\n",
       "      <th>user</th>\n",
       "      <th>text</th>\n",
       "    </tr>\n",
       "  </thead>\n",
       "  <tbody>\n",
       "    <tr>\n",
       "      <th>30</th>\n",
       "      <td>0</td>\n",
       "      <td>1686517168</td>\n",
       "      <td>2009-05-03 05:45:51</td>\n",
       "      <td>lost_dog</td>\n",
       "      <td>@bthenextstep I am lost. Please help me find a...</td>\n",
       "    </tr>\n",
       "    <tr>\n",
       "      <th>580</th>\n",
       "      <td>0</td>\n",
       "      <td>2322687735</td>\n",
       "      <td>2009-06-24 23:04:36</td>\n",
       "      <td>lost_dog</td>\n",
       "      <td>@marissa_in_cali I am lost. Please help me fin...</td>\n",
       "    </tr>\n",
       "    <tr>\n",
       "      <th>785</th>\n",
       "      <td>0</td>\n",
       "      <td>1984183693</td>\n",
       "      <td>2009-05-31 14:36:16</td>\n",
       "      <td>lost_dog</td>\n",
       "      <td>@that_much I am lost. Please help me find a go...</td>\n",
       "    </tr>\n",
       "    <tr>\n",
       "      <th>1536</th>\n",
       "      <td>0</td>\n",
       "      <td>1975991079</td>\n",
       "      <td>2009-05-30 16:20:57</td>\n",
       "      <td>lost_dog</td>\n",
       "      <td>@dcunited I am lost. Please help me find a goo...</td>\n",
       "    </tr>\n",
       "    <tr>\n",
       "      <th>1546</th>\n",
       "      <td>0</td>\n",
       "      <td>2220606046</td>\n",
       "      <td>2009-06-18 03:30:50</td>\n",
       "      <td>lost_dog</td>\n",
       "      <td>@aiimee_x I am lost. Please help me find a goo...</td>\n",
       "    </tr>\n",
       "  </tbody>\n",
       "</table>\n",
       "</div>"
      ],
      "text/plain": [
       "      sentiment         ids                date      user  \\\n",
       "30            0  1686517168 2009-05-03 05:45:51  lost_dog   \n",
       "580           0  2322687735 2009-06-24 23:04:36  lost_dog   \n",
       "785           0  1984183693 2009-05-31 14:36:16  lost_dog   \n",
       "1536          0  1975991079 2009-05-30 16:20:57  lost_dog   \n",
       "1546          0  2220606046 2009-06-18 03:30:50  lost_dog   \n",
       "\n",
       "                                                   text  \n",
       "30    @bthenextstep I am lost. Please help me find a...  \n",
       "580   @marissa_in_cali I am lost. Please help me fin...  \n",
       "785   @that_much I am lost. Please help me find a go...  \n",
       "1536  @dcunited I am lost. Please help me find a goo...  \n",
       "1546  @aiimee_x I am lost. Please help me find a goo...  "
      ]
     },
     "execution_count": 20,
     "metadata": {},
     "output_type": "execute_result"
    }
   ],
   "source": [
    "df_dev[df_dev['user'] == 'lost_dog'].head()"
   ]
  },
  {
   "cell_type": "markdown",
   "metadata": {},
   "source": [
    "All the tweets made by 'lost_dog' follow the same pattern"
   ]
  },
  {
   "cell_type": "code",
   "execution_count": 21,
   "metadata": {},
   "outputs": [
    {
     "data": {
      "text/plain": [
       "0    412\n",
       "Name: sentiment, dtype: int64"
      ]
     },
     "execution_count": 21,
     "metadata": {},
     "output_type": "execute_result"
    }
   ],
   "source": [
    "df_dev[df_dev['user'] == 'lost_dog']['sentiment'].value_counts()"
   ]
  },
  {
   "cell_type": "markdown",
   "metadata": {},
   "source": [
    "All its tweets are classified as negative"
   ]
  },
  {
   "cell_type": "markdown",
   "metadata": {},
   "source": [
    "2. 'webwoke'"
   ]
  },
  {
   "cell_type": "code",
   "execution_count": 22,
   "metadata": {},
   "outputs": [
    {
     "name": "stdout",
     "output_type": "stream",
     "text": [
      "0    196\n",
      "Name: sentiment, dtype: int64\n",
      "1    63\n",
      "Name: sentiment, dtype: int64\n"
     ]
    }
   ],
   "source": [
    "print(df_dev[df_dev['user'] == 'webwoke'].loc[df_dev['text'].str.contains('drop')]['sentiment'].value_counts())\n",
    "print(df_dev[df_dev['user'] == 'webwoke'].loc[df_dev['text'].str.contains('move up')]['sentiment'].value_counts())"
   ]
  },
  {
   "cell_type": "markdown",
   "metadata": {},
   "source": [
    "All the the tweets made by 'webwoke' follow the same pattern; if the tweet contains the word 'drop', it is classified as negative, instead if it contains the expression 'move up' it is classified as positive"
   ]
  },
  {
   "cell_type": "markdown",
   "metadata": {},
   "source": [
    "3. 'tweetpet'"
   ]
  },
  {
   "cell_type": "code",
   "execution_count": 23,
   "metadata": {},
   "outputs": [
    {
     "name": "stdout",
     "output_type": "stream",
     "text": [
      "True\n",
      "0    232\n",
      "Name: sentiment, dtype: int64\n"
     ]
    }
   ],
   "source": [
    "print(df_dev[df_dev['user'] == 'tweetpet']['text'].str.contains('Clean Me').any())\n",
    "print(df_dev[df_dev['user'] == 'tweetpet']['sentiment'].value_counts())"
   ]
  },
  {
   "cell_type": "markdown",
   "metadata": {},
   "source": [
    "All the tweets made by 'tweetpet' follow the same pattern, and contain 'Clean Me' as text.  \n",
    "All the tweets are classified as positive."
   ]
  },
  {
   "cell_type": "markdown",
   "metadata": {},
   "source": [
    "4. SallytheShizzle"
   ]
  },
  {
   "cell_type": "code",
   "execution_count": 24,
   "metadata": {},
   "outputs": [
    {
     "data": {
      "text/html": [
       "<div>\n",
       "<style scoped>\n",
       "    .dataframe tbody tr th:only-of-type {\n",
       "        vertical-align: middle;\n",
       "    }\n",
       "\n",
       "    .dataframe tbody tr th {\n",
       "        vertical-align: top;\n",
       "    }\n",
       "\n",
       "    .dataframe thead th {\n",
       "        text-align: right;\n",
       "    }\n",
       "</style>\n",
       "<table border=\"1\" class=\"dataframe\">\n",
       "  <thead>\n",
       "    <tr style=\"text-align: right;\">\n",
       "      <th></th>\n",
       "      <th>sentiment</th>\n",
       "      <th>ids</th>\n",
       "      <th>date</th>\n",
       "      <th>user</th>\n",
       "      <th>text</th>\n",
       "    </tr>\n",
       "  </thead>\n",
       "  <tbody>\n",
       "    <tr>\n",
       "      <th>485</th>\n",
       "      <td>0</td>\n",
       "      <td>1956695119</td>\n",
       "      <td>2009-05-28 22:27:44</td>\n",
       "      <td>SallytheShizzle</td>\n",
       "      <td>@ColorMeKelly -sigh- we won't get to hear for ...</td>\n",
       "    </tr>\n",
       "    <tr>\n",
       "      <th>509</th>\n",
       "      <td>0</td>\n",
       "      <td>2015645364</td>\n",
       "      <td>2009-06-03 05:11:07</td>\n",
       "      <td>SallytheShizzle</td>\n",
       "      <td>@OfficialAS  oh well. It's not the hol house t...</td>\n",
       "    </tr>\n",
       "    <tr>\n",
       "      <th>2130</th>\n",
       "      <td>1</td>\n",
       "      <td>2015042588</td>\n",
       "      <td>2009-06-03 03:31:13</td>\n",
       "      <td>SallytheShizzle</td>\n",
       "      <td>@MAGGIECHICKEN meh same diff. Just still with ...</td>\n",
       "    </tr>\n",
       "    <tr>\n",
       "      <th>2522</th>\n",
       "      <td>0</td>\n",
       "      <td>1988723315</td>\n",
       "      <td>2009-05-31 23:11:16</td>\n",
       "      <td>SallytheShizzle</td>\n",
       "      <td>@OfficialAS sorry  I've been TRYING to finish ...</td>\n",
       "    </tr>\n",
       "    <tr>\n",
       "      <th>2894</th>\n",
       "      <td>1</td>\n",
       "      <td>2049858625</td>\n",
       "      <td>2009-06-05 17:37:39</td>\n",
       "      <td>SallytheShizzle</td>\n",
       "      <td>#kevinjonas is the best!  happy #kevinjonas day!</td>\n",
       "    </tr>\n",
       "  </tbody>\n",
       "</table>\n",
       "</div>"
      ],
      "text/plain": [
       "      sentiment         ids                date             user  \\\n",
       "485           0  1956695119 2009-05-28 22:27:44  SallytheShizzle   \n",
       "509           0  2015645364 2009-06-03 05:11:07  SallytheShizzle   \n",
       "2130          1  2015042588 2009-06-03 03:31:13  SallytheShizzle   \n",
       "2522          0  1988723315 2009-05-31 23:11:16  SallytheShizzle   \n",
       "2894          1  2049858625 2009-06-05 17:37:39  SallytheShizzle   \n",
       "\n",
       "                                                   text  \n",
       "485   @ColorMeKelly -sigh- we won't get to hear for ...  \n",
       "509   @OfficialAS  oh well. It's not the hol house t...  \n",
       "2130  @MAGGIECHICKEN meh same diff. Just still with ...  \n",
       "2522  @OfficialAS sorry  I've been TRYING to finish ...  \n",
       "2894  #kevinjonas is the best!  happy #kevinjonas day!   "
      ]
     },
     "execution_count": 24,
     "metadata": {},
     "output_type": "execute_result"
    }
   ],
   "source": [
    "df_dev[df_dev['user'] == 'SallytheShizzle'].head()"
   ]
  },
  {
   "cell_type": "markdown",
   "metadata": {},
   "source": [
    "The first three users by number of tweets seem to be bots, while this one doesn't. I'll stop here this punctual analysis.  \n",
    "These users may be dropped during the preprocessing"
   ]
  },
  {
   "cell_type": "markdown",
   "metadata": {},
   "source": [
    "5. StDAY"
   ]
  },
  {
   "cell_type": "code",
   "execution_count": 28,
   "metadata": {},
   "outputs": [
    {
     "data": {
      "text/html": [
       "<div>\n",
       "<style scoped>\n",
       "    .dataframe tbody tr th:only-of-type {\n",
       "        vertical-align: middle;\n",
       "    }\n",
       "\n",
       "    .dataframe tbody tr th {\n",
       "        vertical-align: top;\n",
       "    }\n",
       "\n",
       "    .dataframe thead th {\n",
       "        text-align: right;\n",
       "    }\n",
       "</style>\n",
       "<table border=\"1\" class=\"dataframe\">\n",
       "  <thead>\n",
       "    <tr style=\"text-align: right;\">\n",
       "      <th></th>\n",
       "      <th>sentiment</th>\n",
       "      <th>ids</th>\n",
       "      <th>date</th>\n",
       "      <th>user</th>\n",
       "      <th>text</th>\n",
       "    </tr>\n",
       "  </thead>\n",
       "  <tbody>\n",
       "    <tr>\n",
       "      <th>994</th>\n",
       "      <td>0</td>\n",
       "      <td>2237802529</td>\n",
       "      <td>2009-06-19 06:23:00</td>\n",
       "      <td>Spidersamm</td>\n",
       "      <td>rrrrrrrr im going to bed cos im annoyed now</td>\n",
       "    </tr>\n",
       "    <tr>\n",
       "      <th>1717</th>\n",
       "      <td>0</td>\n",
       "      <td>1966109943</td>\n",
       "      <td>2009-05-29 17:08:33</td>\n",
       "      <td>Spidersamm</td>\n",
       "      <td>@staaceeyy weeooow, i feel fat.... i remember ...</td>\n",
       "    </tr>\n",
       "    <tr>\n",
       "      <th>2466</th>\n",
       "      <td>0</td>\n",
       "      <td>2175595270</td>\n",
       "      <td>2009-06-15 01:26:07</td>\n",
       "      <td>Spidersamm</td>\n",
       "      <td>heart burn  thanks chicken strips, hahah</td>\n",
       "    </tr>\n",
       "    <tr>\n",
       "      <th>3483</th>\n",
       "      <td>0</td>\n",
       "      <td>1956856143</td>\n",
       "      <td>2009-05-28 22:52:00</td>\n",
       "      <td>Spidersamm</td>\n",
       "      <td>@leonblair  i wanna be there  damn for living ...</td>\n",
       "    </tr>\n",
       "    <tr>\n",
       "      <th>3847</th>\n",
       "      <td>1</td>\n",
       "      <td>1693789441</td>\n",
       "      <td>2009-05-03 23:47:20</td>\n",
       "      <td>Spidersamm</td>\n",
       "      <td>@HelloLizzi  om nom nom  he looks so adorable</td>\n",
       "    </tr>\n",
       "  </tbody>\n",
       "</table>\n",
       "</div>"
      ],
      "text/plain": [
       "      sentiment         ids                date        user  \\\n",
       "994           0  2237802529 2009-06-19 06:23:00  Spidersamm   \n",
       "1717          0  1966109943 2009-05-29 17:08:33  Spidersamm   \n",
       "2466          0  2175595270 2009-06-15 01:26:07  Spidersamm   \n",
       "3483          0  1956856143 2009-05-28 22:52:00  Spidersamm   \n",
       "3847          1  1693789441 2009-05-03 23:47:20  Spidersamm   \n",
       "\n",
       "                                                   text  \n",
       "994        rrrrrrrr im going to bed cos im annoyed now   \n",
       "1717  @staaceeyy weeooow, i feel fat.... i remember ...  \n",
       "2466           heart burn  thanks chicken strips, hahah  \n",
       "3483  @leonblair  i wanna be there  damn for living ...  \n",
       "3847      @HelloLizzi  om nom nom  he looks so adorable  "
      ]
     },
     "execution_count": 28,
     "metadata": {},
     "output_type": "execute_result"
    }
   ],
   "source": [
    "df_dev[df_dev['user'] == 'Spidersamm'].head()"
   ]
  },
  {
   "cell_type": "markdown",
   "metadata": {},
   "source": [
    "### 'text' analysis"
   ]
  },
  {
   "cell_type": "markdown",
   "metadata": {},
   "source": [
    "## Baseline model"
   ]
  },
  {
   "cell_type": "markdown",
   "metadata": {},
   "source": [
    "This model is created using sklearn's TfidfVectorizer"
   ]
  },
  {
   "cell_type": "code",
   "execution_count": 25,
   "metadata": {},
   "outputs": [],
   "source": [
    "from sklearn.feature_extraction.text import TfidfVectorizer\n",
    "\n",
    "vectorizer = TfidfVectorizer(\n",
    "    stop_words=\"english\",  \n",
    "    binary=True, \n",
    "    use_idf=True, \n",
    "    norm='l2',\n",
    "    smooth_idf=True\n",
    ")\n",
    "\n",
    "wpm = vectorizer.fit_transform(df_dev['text'])"
   ]
  },
  {
   "cell_type": "code",
   "execution_count": 26,
   "metadata": {},
   "outputs": [],
   "source": [
    "N = 100\n",
    "\n",
    "word_freq = pd.Series(\n",
    "    data = np.asarray(wpm.sum(axis=0)).squeeze(),\n",
    "    index = vectorizer.get_feature_names_out()\n",
    ").sort_values(ascending=False)\n",
    "\n",
    "word_freq = word_freq[:N]\n",
    "\n",
    "# fig, ax = plt.subplots(figsize=(15,5))\n",
    "# sns.histplot(data=pd.DataFrame(word_freq,columns=['word_freq']),x='word_freq')\n",
    "# word_freq"
   ]
  },
  {
   "cell_type": "code",
   "execution_count": 27,
   "metadata": {},
   "outputs": [],
   "source": [
    "word_ind = [w in word_freq.index for w in vectorizer.get_feature_names_out()]\n",
    "\n",
    "words_df = pd.DataFrame(\n",
    "    data = wpm[:,word_ind].toarray(),\n",
    "    columns = vectorizer.get_feature_names_out()[word_ind],\n",
    "    index = df_dev.index\n",
    ").add_prefix('word_')\n",
    "\n",
    "# words_df"
   ]
  },
  {
   "cell_type": "code",
   "execution_count": 28,
   "metadata": {},
   "outputs": [],
   "source": [
    "from sklearn.model_selection import train_test_split\n",
    "\n",
    "X = words_df.values\n",
    "y = df_dev['sentiment'].values\n",
    "\n",
    "X_train, X_test, y_train, y_test = train_test_split(X, y, shuffle=True, stratify=y, train_size=0.7, random_state=50)"
   ]
  },
  {
   "cell_type": "code",
   "execution_count": 29,
   "metadata": {},
   "outputs": [
    {
     "data": {
      "text/plain": [
       "0.7088160731632195"
      ]
     },
     "execution_count": 29,
     "metadata": {},
     "output_type": "execute_result"
    }
   ],
   "source": [
    "from sklearn.ensemble import RandomForestClassifier\n",
    "from sklearn.metrics import f1_score\n",
    "\n",
    "reg = RandomForestClassifier(100, random_state=42, n_jobs=-2)\n",
    "reg.fit(X_train, y_train)\n",
    "f1_score(y_test, reg.predict(X_test))"
   ]
  },
  {
   "cell_type": "markdown",
   "metadata": {},
   "source": [
    "### Baseline: best RandomForestClassifier hyperparameters"
   ]
  },
  {
   "cell_type": "code",
   "execution_count": 30,
   "metadata": {},
   "outputs": [],
   "source": [
    "from sklearn.model_selection import GridSearchCV\n",
    "# param_grid = {\n",
    "#     \"n_estimators\": [50,75,100],\n",
    "#     \"criterion\": [\"gini\", \"entropy\"],\n",
    "#     \"max_features\": [\"auto\", \"sqrt\", \"log2\"],\n",
    "#     \"random_state\": [42],\n",
    "#     \"n_jobs\": [-1],\n",
    "# }\n",
    "\n",
    "param_grid = {\n",
    "    \"n_estimators\": [50,75],\n",
    "    \"criterion\": [\"entropy\"],\n",
    "    \"max_features\": [\"auto\"],\n",
    "    \"random_state\": [42],\n",
    "    \"n_jobs\": [-2],\n",
    "}\n",
    "\n",
    "gs = GridSearchCV(\n",
    "    RandomForestClassifier(), \n",
    "    param_grid, \n",
    "    scoring=\"f1_macro\", \n",
    "    # n_jobs=-1, \n",
    "    cv=5,\n",
    "    verbose=3\n",
    ")\n",
    "# gs.fit(X, y)\n",
    "\n",
    "# print(gs.best_score_)\n",
    "# print(gs.best_estimator_)\n",
    "# print(gs.best_params_)"
   ]
  },
  {
   "cell_type": "markdown",
   "metadata": {},
   "source": [
    "### Combinations of hyperparameters"
   ]
  },
  {
   "cell_type": "code",
   "execution_count": 31,
   "metadata": {},
   "outputs": [],
   "source": [
    "from sklearn.feature_extraction.text import TfidfVectorizer\n",
    "\n",
    "vectorizer = TfidfVectorizer(\n",
    "    stop_words=\"english\",  \n",
    "    binary=True, \n",
    "    use_idf=True, \n",
    "    norm='l2',\n",
    "    smooth_idf=True\n",
    ")\n",
    "\n",
    "wpm = vectorizer.fit_transform(df_dev['text'])"
   ]
  },
  {
   "cell_type": "markdown",
   "metadata": {},
   "source": [
    "### Preprocessing: removal of '@words' in 'text'"
   ]
  },
  {
   "cell_type": "code",
   "execution_count": 32,
   "metadata": {},
   "outputs": [],
   "source": [
    "df_dev_noAt = df_dev.copy()\n",
    "df_dev_noAt['text'] = df_dev['text'].str.split().apply(lambda x : ' '.join([i for i in x if not(i.startswith('@'))]))"
   ]
  },
  {
   "cell_type": "code",
   "execution_count": 33,
   "metadata": {},
   "outputs": [],
   "source": [
    "from sklearn.feature_extraction.text import TfidfVectorizer\n",
    "\n",
    "vectorizer = TfidfVectorizer(\n",
    "    stop_words=\"english\",  \n",
    "    binary=True, \n",
    "    use_idf=True, \n",
    "    norm='l2',\n",
    "    smooth_idf=True\n",
    ")\n",
    "\n",
    "wpm = vectorizer.fit_transform(df_dev_noAt['text'])"
   ]
  },
  {
   "cell_type": "code",
   "execution_count": 34,
   "metadata": {},
   "outputs": [],
   "source": [
    "N = 100\n",
    "\n",
    "word_freq = pd.Series(\n",
    "    data = np.asarray(wpm.sum(axis=0)).squeeze(),\n",
    "    index = vectorizer.get_feature_names_out()\n",
    ").sort_values(ascending=False)\n",
    "\n",
    "word_freq = word_freq[:N]\n",
    "\n",
    "# fig, ax = plt.subplots(figsize=(15,5))\n",
    "# sns.histplot(data=pd.DataFrame(word_freq,columns=['word_freq']),x='word_freq')\n",
    "# word_freq"
   ]
  },
  {
   "cell_type": "code",
   "execution_count": 35,
   "metadata": {},
   "outputs": [],
   "source": [
    "word_ind = [w in word_freq.index for w in vectorizer.get_feature_names_out()]\n",
    "\n",
    "words_df = pd.DataFrame(\n",
    "    data = wpm[:,word_ind].toarray(),\n",
    "    columns = vectorizer.get_feature_names_out()[word_ind],\n",
    "    index = df_dev.index\n",
    ").add_prefix('word_')\n",
    "\n",
    "# words_df"
   ]
  },
  {
   "cell_type": "code",
   "execution_count": 36,
   "metadata": {},
   "outputs": [],
   "source": [
    "from sklearn.model_selection import train_test_split\n",
    "\n",
    "X = words_df.values\n",
    "y = df_dev['sentiment'].values\n",
    "\n",
    "X_train, X_test, y_train, y_test = train_test_split(X, y, shuffle=True, stratify=y, train_size=0.7, random_state=50)"
   ]
  },
  {
   "cell_type": "code",
   "execution_count": 37,
   "metadata": {},
   "outputs": [
    {
     "data": {
      "text/plain": [
       "0.7107991667455733"
      ]
     },
     "execution_count": 37,
     "metadata": {},
     "output_type": "execute_result"
    }
   ],
   "source": [
    "from sklearn.ensemble import RandomForestClassifier\n",
    "from sklearn.metrics import f1_score\n",
    "\n",
    "reg = RandomForestClassifier(100, random_state=42, n_jobs=-2)\n",
    "reg.fit(X_train, y_train)\n",
    "f1_score(y_test, reg.predict(X_test))"
   ]
  },
  {
   "cell_type": "markdown",
   "metadata": {},
   "source": [
    "The result does not change, the words are the same. It may have some consequences if we apply stemming and lemmatization"
   ]
  },
  {
   "cell_type": "markdown",
   "metadata": {},
   "source": [
    "## Test: NLTK"
   ]
  },
  {
   "cell_type": "code",
   "execution_count": 135,
   "metadata": {},
   "outputs": [],
   "source": [
    "from nltk.sentiment import SentimentAnalyzer\n",
    "import nltk.sentiment.util as nsu\n",
    "from nltk.classify import NaiveBayesClassifier\n",
    "\n",
    "nltk_test = df_dev.copy()\n",
    "nltk_test['text'] = nltk_test['text'].str.split().apply(lambda x : [i for i in x if not(i.startswith('@'))])\n",
    "\n",
    "X = nltk_test['text'].values\n",
    "y = nltk_test['sentiment'].values\n",
    "\n",
    "X_train, X_test, y_train, y_test = train_test_split(X, y, shuffle=True, stratify=y, train_size=0.7, random_state=50)\n",
    "\n",
    "\n",
    "nltk_sa = SentimentAnalyzer()\n",
    "\n",
    "X_train_mod = nltk_sa.all_words([nsu.mark_negation(doc,shallow=True) for doc in X_train])"
   ]
  },
  {
   "cell_type": "code",
   "execution_count": 136,
   "metadata": {},
   "outputs": [],
   "source": [
    "unigram_feats = nltk_sa.unigram_word_feats(X_train_mod, top_n=150)\n",
    "\n",
    "nltk_sa.add_feat_extractor(nsu.extract_unigram_feats, unigrams=unigram_feats)"
   ]
  },
  {
   "cell_type": "code",
   "execution_count": 152,
   "metadata": {},
   "outputs": [],
   "source": [
    "training_set = nltk_sa.apply_features(tuple([(x_t, y_t) for (x_t, y_t) in zip(X_train,y_train)]), labeled=True)\n",
    "test_set = nltk_sa.apply_features(tuple([(x_t, y_t) for (x_t, y_t) in zip(X_test,y_test)]), labeled=True)"
   ]
  },
  {
   "cell_type": "code",
   "execution_count": 154,
   "metadata": {},
   "outputs": [
    {
     "name": "stdout",
     "output_type": "stream",
     "text": [
      "Training classifier\n"
     ]
    }
   ],
   "source": [
    "trainer = NaiveBayesClassifier.train\n",
    "\n",
    "classifier = nltk_sa.train(trainer, training_set)"
   ]
  },
  {
   "cell_type": "code",
   "execution_count": 155,
   "metadata": {},
   "outputs": [
    {
     "name": "stdout",
     "output_type": "stream",
     "text": [
      "Evaluating NaiveBayesClassifier results...\n",
      "Accuracy: 0.6568689906517133\n",
      "F-measure [0]: 0.4656838996931737\n",
      "F-measure [1]: 0.7472913552498064\n",
      "Precision [0]: 0.6775644468313641\n",
      "Precision [1]: 0.6510084976142045\n",
      "Recall [0]: 0.35475027239815826\n",
      "Recall [1]: 0.8769975414874002\n"
     ]
    }
   ],
   "source": [
    "for key,value in sorted(nltk_sa.evaluate(test_set).items()):\n",
    "    print(f'{key}: {value}')"
   ]
  }
 ],
 "metadata": {
  "interpreter": {
   "hash": "bd8ee3559d665fee903f84f74f9742602cb00cb47768a52cae0fe6e115d1a823"
  },
  "kernelspec": {
   "display_name": "Python 3.8.12 64-bit ('data_science_lab_2': conda)",
   "language": "python",
   "name": "python3"
  },
  "language_info": {
   "codemirror_mode": {
    "name": "ipython",
    "version": 3
   },
   "file_extension": ".py",
   "mimetype": "text/x-python",
   "name": "python",
   "nbconvert_exporter": "python",
   "pygments_lexer": "ipython3",
   "version": "3.8.12"
  },
  "orig_nbformat": 4
 },
 "nbformat": 4,
 "nbformat_minor": 2
}
